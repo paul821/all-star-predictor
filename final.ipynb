{
 "cells": [
  {
   "cell_type": "markdown",
   "metadata": {},
   "source": [
    "THis is cool."
   ]
  },
  {
   "cell_type": "code",
   "execution_count": null,
   "metadata": {},
   "outputs": [],
   "source": [
    "print(\"Hello world!\")"
   ]
  },
  {
   "cell_type": "markdown",
   "metadata": {},
   "source": [
    "full szn stats vs first half stats: basically ignoring the fact that one may be a slow starter.\n",
    "mandate including an all star per team?"
   ]
  },
  {
   "cell_type": "markdown",
   "metadata": {},
   "source": [
    "selecting fangraphs b/c fwar.\n",
    "\n",
    "selecting \n",
    "position allstar? #prevAS pitcher? fWAR OPS+ BA HR SB RBI OPS ERA+ K/9 K/BB WHIP Wpercent SV Hold\n",
    "\n",
    "SP RP, 2 position players + an all star?"
   ]
  },
  {
   "cell_type": "code",
   "execution_count": null,
   "metadata": {},
   "outputs": [],
   "source": [
    "use BR to select players by randomization\n",
    "use FG to get data"
   ]
  }
 ],
 "metadata": {
  "language_info": {
   "name": "python"
  },
  "orig_nbformat": 4
 },
 "nbformat": 4,
 "nbformat_minor": 2
}
