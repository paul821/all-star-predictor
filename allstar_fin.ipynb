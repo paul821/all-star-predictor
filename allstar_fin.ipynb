{
  "cells": [
    {
      "cell_type": "markdown",
      "metadata": {
        "id": "view-in-github",
        "colab_type": "text"
      },
      "source": [
        "<a href=\"https://colab.research.google.com/github/paul821/all-star-predictor/blob/main/allstar_fin.ipynb\" target=\"_parent\"><img src=\"https://colab.research.google.com/assets/colab-badge.svg\" alt=\"Open In Colab\"/></a>"
      ]
    },
    {
      "cell_type": "markdown",
      "metadata": {
        "id": "ZLnn7Zpg7hMs"
      },
      "source": [
        "Purpose\n",
        "\n",
        "The All star game is painted as a popularity contest and that there are way too many wrong choices (either snubs or undeserving players). Is this actually the case?\n",
        "Unlike the Cy Young or the MVP races, or game predicting or World Series predictions, there aren't that many predictions for the MLB All Star.\n",
        "\n",
        "This project serves to use data analytics and machine learning on all star data, focusing on two things:\n",
        "\n",
        "First, identifying which factors contribute the most to MLB All Star selection, focusing on certain comparisons\n",
        "- classic stats vs sabermetrics\n",
        "- performance vs popularity\n",
        "- past season(s) performance vs this year performance\n",
        "- overrated players, overpaid players, underrated players, snubs\n",
        "\n",
        "Second, creating a model that attempts to either predict or classify a player based on the odds of making it to the All Star roster."
      ]
    },
    {
      "cell_type": "markdown",
      "metadata": {
        "id": "CH5XoGKWNeRA"
      },
      "source": [
        "## Data import and preprocessing"
      ]
    },
    {
      "cell_type": "markdown",
      "metadata": {
        "id": "qCHSZC6ONl2v"
      },
      "source": [
        "##Lahman DB"
      ]
    },
    {
      "cell_type": "code",
      "execution_count": null,
      "metadata": {
        "colab": {
          "base_uri": "https://localhost:8080/"
        },
        "id": "OppBx6JO82q1",
        "outputId": "3ad0d76c-ee70-4220-d9a4-51359f92870e"
      },
      "outputs": [
        {
          "name": "stdout",
          "output_type": "stream",
          "text": [
            "Index(['playerID', 'yearID', 'gameNum', 'gameID', 'teamID', 'lgID', 'GP',\n",
            "       'startingPos'],\n",
            "      dtype='object')\n",
            "Index(['playerID', 'yearID', 'stint', 'teamID', 'lgID', 'G', 'AB', 'R', 'H',\n",
            "       '2B', '3B', 'HR', 'RBI', 'SB', 'CS', 'BB', 'SO', 'IBB', 'HBP', 'SH',\n",
            "       'SF', 'GIDP'],\n",
            "      dtype='object')\n",
            "Index(['playerID', 'yearID', 'stint', 'teamID', 'lgID', 'POS', 'G', 'GS',\n",
            "       'InnOuts', 'PO', 'A', 'E', 'DP', 'PB', 'WP', 'SB', 'CS', 'ZR'],\n",
            "      dtype='object')\n",
            "Index(['playerID', 'birthYear', 'birthMonth', 'birthDay', 'birthCountry',\n",
            "       'birthState', 'birthCity', 'deathYear', 'deathMonth', 'deathDay',\n",
            "       'deathCountry', 'deathState', 'deathCity', 'nameFirst', 'nameLast',\n",
            "       'nameGiven', 'weight', 'height', 'bats', 'throws', 'debut', 'finalGame',\n",
            "       'retroID', 'bbrefID'],\n",
            "      dtype='object')\n",
            "Index(['playerID', 'yearID', 'stint', 'teamID', 'lgID', 'W', 'L', 'G', 'GS',\n",
            "       'CG', 'SHO', 'SV', 'IPouts', 'H', 'ER', 'HR', 'BB', 'SO', 'BAOpp',\n",
            "       'ERA', 'IBB', 'WP', 'HBP', 'BK', 'BFP', 'GF', 'R', 'SH', 'SF', 'GIDP'],\n",
            "      dtype='object')\n",
            "Index(['yearID', 'teamID', 'lgID', 'playerID', 'salary'], dtype='object')\n",
            "Index(['yearID', 'lgID', 'teamID', 'franchID', 'divID', 'Rank', 'G', 'Ghome',\n",
            "       'W', 'L', 'DivWin', 'WCWin', 'LgWin', 'WSWin', 'R', 'AB', 'H', '2B',\n",
            "       '3B', 'HR', 'BB', 'SO', 'SB', 'CS', 'HBP', 'SF', 'RA', 'ER', 'ERA',\n",
            "       'CG', 'SHO', 'SV', 'IPouts', 'HA', 'HRA', 'BBA', 'SOA', 'E', 'DP', 'FP',\n",
            "       'name', 'park', 'attendance', 'BPF', 'PPF', 'teamIDBR',\n",
            "       'teamIDlahman45', 'teamIDretro'],\n",
            "      dtype='object')\n"
          ]
        }
      ],
      "source": [
        "import pandas as pd\n",
        "\n",
        "allstar = pd.read_csv('https://raw.githubusercontent.com/paul821/all-star-predictor/data/AllstarFull.csv')\n",
        "print(allstar.columns)\n",
        "batting = pd.read_csv('https://raw.githubusercontent.com/paul821/all-star-predictor/data/Batting.csv')\n",
        "print(batting.columns)\n",
        "fielding = pd.read_csv('https://raw.githubusercontent.com/paul821/all-star-predictor/data/Fielding.csv')\n",
        "print(fielding.columns)\n",
        "people = pd.read_csv('https://raw.githubusercontent.com/paul821/all-star-predictor/data/People.csv')\n",
        "print(people.columns)\n",
        "pitching = pd.read_csv('https://raw.githubusercontent.com/paul821/all-star-predictor/data/Pitching.csv')\n",
        "print(pitching.columns)\n",
        "salaries = pd.read_csv('https://raw.githubusercontent.com/paul821/all-star-predictor/data/Salaries.csv')\n",
        "print(salaries.columns)\n",
        "teams = pd.read_csv('https://raw.githubusercontent.com/paul821/all-star-predictor/data/Teams.csv')\n",
        "print(teams.columns)\n"
      ]
    },
    {
      "cell_type": "markdown",
      "metadata": {
        "id": "7SOD0kZJBJfP"
      },
      "source": [
        "- have to delete pre live ball era\n",
        "- have to delete years w/o all star\n",
        "- have to delete players with multiple stints (traded teams mid season)\n",
        "- fan voting started from 1970"
      ]
    },
    {
      "cell_type": "code",
      "execution_count": null,
      "metadata": {
        "id": "MkCDVDlmBTRF"
      },
      "outputs": [],
      "source": [
        "allstar = allstar.loc[allstar[\"yearID\"] >= 1970]\n",
        "batting = batting.loc[batting[\"yearID\"] >= 1970]\n",
        "fielding = fielding.loc[fielding[\"yearID\"] >= 1970]\n",
        "pitching = pitching.loc[pitching[\"yearID\"] >= 1970]\n",
        "salaries = salaries.loc[salaries[\"yearID\"] >= 1970]\n",
        "teams = teams.loc[teams[\"yearID\"] >= 1970]"
      ]
    },
    {
      "cell_type": "markdown",
      "metadata": {
        "id": "xno1vmTPHXAO"
      },
      "source": [
        "removing useless columns and deleting player stats with multiple stints"
      ]
    },
    {
      "cell_type": "code",
      "execution_count": null,
      "metadata": {
        "id": "O-A-zvdg-yjj"
      },
      "outputs": [],
      "source": [
        "allstar = allstar.drop(columns=['gameNum', 'gameID', 'GP'])\n",
        "allstar['isAS'] = 1\n",
        "batting = batting.drop_duplicates(subset=['playerID', 'yearID'], keep=False)\n",
        "fielding = fielding.drop_duplicates(subset=['playerID', 'yearID'], keep=False)\n",
        "pitching = pitching.drop_duplicates(subset=['playerID', 'yearID'], keep=False)\n",
        "people = people.drop(columns=['birthYear', 'birthMonth', 'birthDay', 'birthCountry',\n",
        "       'birthState', 'birthCity', 'deathYear', 'deathMonth', 'deathDay',\n",
        "       'deathCountry', 'deathState', 'deathCity','bats', 'throws', 'debut', 'finalGame'])"
      ]
    },
    {
      "cell_type": "markdown",
      "metadata": {
        "id": "DYRkU-VZH4X8"
      },
      "source": [
        "rookie eligibility is 130 abs or 50 IPs - what about RPs?\n",
        "\n",
        "FG says 154 and 60.1 IPs\n",
        "\n",
        "create BA column"
      ]
    },
    {
      "cell_type": "code",
      "execution_count": null,
      "metadata": {
        "id": "5bv5ndGyH4Is"
      },
      "outputs": [],
      "source": [
        "batting = batting.loc[batting['AB']>=154]\n",
        "pitching = pitching.loc[pitching['IPouts']>=183]\n",
        "\n",
        "batting['BA'] = batting['H']/batting['AB']\n",
        "batting['OBP'] = (batting['H']+batting['BB']+batting['HBP'])/(batting['AB']+batting['BB']+batting['SF']+batting['HBP'])\n",
        "batting['SLG'] = (batting['H']+batting['2B']+2*batting['3B']+3*batting['HR'])/batting['AB']\n",
        "batting['OPS'] = batting['OBP'] + batting['SLG']"
      ]
    },
    {
      "cell_type": "markdown",
      "metadata": {
        "id": "Bhwb3qHgSaPX"
      },
      "source": [
        "status check to see what columns there are now. will be doing this quite frequently in the data cleaning process."
      ]
    },
    {
      "cell_type": "code",
      "execution_count": null,
      "metadata": {
        "colab": {
          "base_uri": "https://localhost:8080/"
        },
        "id": "pwaEUU2KRUd6",
        "outputId": "5d675ba0-13cd-41d8-a341-25a1d3e1da52"
      },
      "outputs": [
        {
          "name": "stdout",
          "output_type": "stream",
          "text": [
            "Index(['playerID', 'yearID', 'teamID', 'lgID', 'startingPos', 'isAS'], dtype='object')\n",
            "Index(['playerID', 'yearID', 'stint', 'teamID', 'lgID', 'G', 'AB', 'R', 'H',\n",
            "       '2B', '3B', 'HR', 'RBI', 'SB', 'CS', 'BB', 'SO', 'IBB', 'HBP', 'SH',\n",
            "       'SF', 'GIDP', 'BA', 'OBP', 'SLG', 'OPS'],\n",
            "      dtype='object')\n",
            "Index(['playerID', 'yearID', 'stint', 'teamID', 'lgID', 'POS', 'G', 'GS',\n",
            "       'InnOuts', 'PO', 'A', 'E', 'DP', 'PB', 'WP', 'SB', 'CS', 'ZR'],\n",
            "      dtype='object')\n",
            "Index(['playerID', 'nameFirst', 'nameLast', 'nameGiven', 'weight', 'height',\n",
            "       'retroID', 'bbrefID'],\n",
            "      dtype='object')\n",
            "Index(['playerID', 'yearID', 'stint', 'teamID', 'lgID', 'W', 'L', 'G', 'GS',\n",
            "       'CG', 'SHO', 'SV', 'IPouts', 'H', 'ER', 'HR', 'BB', 'SO', 'BAOpp',\n",
            "       'ERA', 'IBB', 'WP', 'HBP', 'BK', 'BFP', 'GF', 'R', 'SH', 'SF', 'GIDP'],\n",
            "      dtype='object')\n",
            "Index(['yearID', 'teamID', 'lgID', 'playerID', 'salary'], dtype='object')\n",
            "Index(['yearID', 'lgID', 'teamID', 'franchID', 'divID', 'Rank', 'G', 'Ghome',\n",
            "       'W', 'L', 'DivWin', 'WCWin', 'LgWin', 'WSWin', 'R', 'AB', 'H', '2B',\n",
            "       '3B', 'HR', 'BB', 'SO', 'SB', 'CS', 'HBP', 'SF', 'RA', 'ER', 'ERA',\n",
            "       'CG', 'SHO', 'SV', 'IPouts', 'HA', 'HRA', 'BBA', 'SOA', 'E', 'DP', 'FP',\n",
            "       'name', 'park', 'attendance', 'BPF', 'PPF', 'teamIDBR',\n",
            "       'teamIDlahman45', 'teamIDretro'],\n",
            "      dtype='object')\n"
          ]
        }
      ],
      "source": [
        "listofcsv = [allstar, batting, fielding, people, pitching, salaries, teams]\n",
        "for i in listofcsv:\n",
        "  print(i.columns)"
      ]
    },
    {
      "cell_type": "markdown",
      "metadata": {
        "id": "5kWyXzoVAVHF"
      },
      "source": [
        "dropping unnecessary columns - will be merging a lot of these tables and there are a lot of overlapping columns"
      ]
    },
    {
      "cell_type": "code",
      "execution_count": null,
      "metadata": {
        "id": "QA6TmQQVYBu-"
      },
      "outputs": [],
      "source": [
        "teams = teams.drop(columns=['Rank','DivWin', 'WCWin', 'LgWin', 'WSWin','R','AB','H', '2B',\n",
        "       '3B', 'HR', 'BB', 'SO', 'SB', 'CS', 'HBP', 'SF', 'RA', 'ER', 'ERA',\n",
        "       'CG', 'SHO', 'SV', 'IPouts', 'HA', 'HRA', 'BBA', 'SOA', 'E', 'DP', 'FP'])\n"
      ]
    },
    {
      "cell_type": "markdown",
      "metadata": {
        "id": "tOwIh2iPo0xM"
      },
      "source": [
        "time to join all the tables"
      ]
    },
    {
      "cell_type": "markdown",
      "metadata": {
        "id": "F47k-blcNuXc"
      },
      "source": [
        "##Joining Tables"
      ]
    },
    {
      "cell_type": "code",
      "execution_count": null,
      "metadata": {
        "colab": {
          "base_uri": "https://localhost:8080/"
        },
        "id": "Lva_1Y7LSY11",
        "outputId": "1445e3d8-5f84-4266-8946-fd2349bcebe5"
      },
      "outputs": [
        {
          "data": {
            "text/plain": [
              "<bound method NDFrame.head of         playerID  yearID  stint teamID lgID    G   AB    R    H  2B  ...  \\\n",
              "0      aaronha01    1970      1    ATL   NL  150  516  103  154  26  ...   \n",
              "1       ageeto01    1970      1    NYN   NL  153  636  107  182  30  ...   \n",
              "2      allenbe01    1970      1    WS2   AL  104  261   31   61   7  ...   \n",
              "3      allendi01    1970      1    SLN   NL  122  459   88  128  17  ...   \n",
              "4      alleyge01    1970      1    PIT   NL  121  426   46  104  16  ...   \n",
              "...          ...     ...    ...    ...  ...  ...  ...  ...  ...  ..  ...   \n",
              "16305  wynnsau01    2022      1    SFN   NL   66  162   14   42   7  ...   \n",
              "16306  yastrmi01    2022      1    SFN   NL  148  485   73  104  31  ...   \n",
              "16307  yelicch01    2022      1    MIL   NL  154  575   99  145  25  ...   \n",
              "16308  yepezju01    2022      1    SLN   NL   76  253   27   64  13  ...   \n",
              "16309  zavalse01    2022      1    CHA   AL   61  178   22   48  14  ...   \n",
              "\n",
              "            OBP       SLG       OPS  nameFirst     nameLast  \\\n",
              "0      0.384615  0.573643  0.958259       Hank        Aaron   \n",
              "1      0.343885  0.468553  0.812438     Tommie         Agee   \n",
              "2      0.342105  0.360153  0.702259     Bernie        Allen   \n",
              "3      0.377111  0.559913  0.937024       Dick        Allen   \n",
              "4      0.297414  0.361502  0.658916       Gene        Alley   \n",
              "...         ...       ...       ...        ...          ...   \n",
              "16305  0.312500  0.358025  0.670525     Austin        Wynns   \n",
              "16306  0.305206  0.391753  0.696959       Mike  Yastrzemski   \n",
              "16307  0.355224  0.382609  0.737833  Christian       Yelich   \n",
              "16308  0.295620  0.446640  0.742261       Juan        Yepez   \n",
              "16309  0.346535  0.382022  0.728557       Seby       Zavala   \n",
              "\n",
              "                nameGiven  weight  height   retroID    bbrefID  \n",
              "0             Henry Louis   180.0    72.0  aaroh101  aaronha01  \n",
              "1              Tommie Lee   195.0    71.0  ageet101   ageeto01  \n",
              "2           Bernard Keith   175.0    72.0  alleb105  allenbe01  \n",
              "3         Richard Anthony   187.0    71.0  alled101  allendi01  \n",
              "4          Leonard Eugene   160.0    70.0  alleg101  alleyge01  \n",
              "...                   ...     ...     ...       ...        ...  \n",
              "16305       Robert Austin   190.0    72.0  wynna001  wynnsau01  \n",
              "16306      Michael Andrew   178.0    70.0  yastm001  yastrmi01  \n",
              "16307   Christian Stephen   195.0    75.0  yelic001  yelicch01  \n",
              "16308          Juan David   200.0    73.0  yepej001  yepezju01  \n",
              "16309  Bernardo Sebastian   205.0    71.0  zavas001  zavalse01  \n",
              "\n",
              "[16310 rows x 33 columns]>"
            ]
          },
          "execution_count": 7,
          "metadata": {},
          "output_type": "execute_result"
        }
      ],
      "source": [
        "batting_merged = pd.merge(batting, people, left_on='playerID', right_on='playerID', how='left')\n",
        "fielding_merged = pd.merge(fielding, people, left_on='playerID', right_on='playerID', how='left')\n",
        "pitching_merged = pd.merge(pitching, people, left_on='playerID', right_on='playerID', how='left')\n",
        "batting_merged.head\n"
      ]
    },
    {
      "cell_type": "code",
      "execution_count": null,
      "metadata": {
        "colab": {
          "base_uri": "https://localhost:8080/"
        },
        "id": "UFvM1y60bQTG",
        "outputId": "05eea5be-f405-4d85-a472-3c80606a4c55"
      },
      "outputs": [
        {
          "name": "stdout",
          "output_type": "stream",
          "text": [
            "Index(['playerID', 'yearID', 'stint', 'teamID', 'lgID', 'G', 'AB', 'R', 'H',\n",
            "       '2B', '3B', 'HR', 'RBI', 'SB', 'CS', 'BB', 'SO', 'IBB', 'HBP', 'SH',\n",
            "       'SF', 'GIDP', 'BA', 'OBP', 'SLG', 'OPS', 'nameFirst', 'nameLast',\n",
            "       'nameGiven', 'weight', 'height', 'retroID', 'bbrefID', 'startingPos',\n",
            "       'isAS'],\n",
            "      dtype='object')\n"
          ]
        }
      ],
      "source": [
        "batting_allstar = pd.merge(batting_merged, allstar, left_on = ['playerID','yearID'], right_on=['playerID', 'yearID'], how='left').drop(columns=['teamID_y', 'lgID_y'])\n",
        "batting_allstar.rename(columns = {'teamID_x':'teamID', 'lgID_x':'lgID'}, inplace = True)\n",
        "pitching_allstar = pd.merge(pitching_merged, allstar, left_on = ['playerID','yearID'], right_on=['playerID', 'yearID'], how='left').drop(columns=['teamID_y', 'lgID_y'])\n",
        "pitching_allstar.rename(columns = {'teamID_x':'teamID', 'lgID_x':'lgID'}, inplace = True)\n",
        "\n",
        "print(batting_allstar.columns)"
      ]
    },
    {
      "cell_type": "code",
      "execution_count": null,
      "metadata": {
        "id": "qRfZMGuZczPE"
      },
      "outputs": [],
      "source": [
        "batting_salaries = pd.merge(batting_allstar, salaries, left_on = ['playerID','yearID'], right_on=['playerID', 'yearID'], how='left').drop(columns=['teamID_y', 'lgID_y'])\n",
        "batting_salaries.rename(columns = {'teamID_x':'teamID', 'lgID_x':'lgID'}, inplace = True)\n",
        "pitching_salaries = pd.merge(pitching_allstar, salaries, left_on = ['playerID','yearID'], right_on=['playerID', 'yearID'], how='left').drop(columns=['teamID_y', 'lgID_y'])\n",
        "pitching_salaries.rename(columns = {'teamID_x':'teamID', 'lgID_x':'lgID'}, inplace = True)"
      ]
    },
    {
      "cell_type": "code",
      "execution_count": null,
      "metadata": {
        "colab": {
          "base_uri": "https://localhost:8080/"
        },
        "id": "jFHkUfveebpQ",
        "outputId": "f4a5e1bf-ef16-4d0f-b600-235b77121e86"
      },
      "outputs": [
        {
          "name": "stdout",
          "output_type": "stream",
          "text": [
            "Index(['playerID', 'yearID', 'stint', 'teamID', 'lgID', 'G', 'AB', 'R', 'H',\n",
            "       '2B', '3B', 'HR', 'RBI', 'SB', 'CS', 'BB', 'SO', 'IBB', 'HBP', 'SH',\n",
            "       'SF', 'GIDP', 'BA', 'OBP', 'SLG', 'OPS', 'nameFirst', 'nameLast',\n",
            "       'nameGiven', 'weight', 'height', 'retroID', 'bbrefID', 'startingPos',\n",
            "       'isAS', 'salary', 'lgID_y', 'franchID', 'divID', 'G_y', 'Ghome', 'W',\n",
            "       'L', 'name', 'park', 'attendance', 'BPF', 'PPF', 'teamIDBR',\n",
            "       'teamIDlahman45', 'teamIDretro'],\n",
            "      dtype='object')\n"
          ]
        }
      ],
      "source": [
        "batting_full = pd.merge(batting_salaries, teams, left_on=['yearID','teamID'],right_on=['yearID','teamID'], how='left')#.drop(columns=['lgID_y', 'G_y'])\n",
        "batting_full.rename(columns = {'lgID_x':'lgID', 'G_x':'G'}, inplace = True)\n",
        "pitching_full = pd.merge(pitching_salaries, teams, left_on=['yearID','teamID'],right_on=['yearID','teamID'], how='left')#.drop(columns=['lgID_y', 'G_y', 'W_y', 'L_y'])\n",
        "pitching_full.rename(columns = {'lgID_x':'lgID', 'W_x':'W', 'L_x':'L', 'G_x':'G'}, inplace = True)\n",
        "print(batting_full.columns)"
      ]
    },
    {
      "cell_type": "code",
      "execution_count": null,
      "metadata": {
        "colab": {
          "base_uri": "https://localhost:8080/"
        },
        "id": "1x5Z1KxBgXrL",
        "outputId": "6d64e0a6-d23f-4af4-f6bd-f8afb901c36f"
      },
      "outputs": [
        {
          "name": "stdout",
          "output_type": "stream",
          "text": [
            "Index(['playerID', 'yearID', 'stint', 'teamID', 'lgID', 'W', 'L', 'G', 'GS',\n",
            "       'CG', 'SHO', 'SV', 'IPouts', 'H', 'ER', 'HR', 'BB', 'SO', 'BAOpp',\n",
            "       'ERA', 'IBB', 'WP', 'HBP', 'BK', 'BFP', 'GF', 'R', 'SH', 'SF', 'GIDP',\n",
            "       'nameFirst', 'nameLast', 'nameGiven', 'weight', 'height', 'retroID',\n",
            "       'bbrefID', 'startingPos', 'isAS', 'salary', 'lgID_y', 'franchID',\n",
            "       'divID', 'G_y', 'Ghome', 'W_y', 'L_y', 'name', 'park', 'attendance',\n",
            "       'BPF', 'PPF', 'teamIDBR', 'teamIDlahman45', 'teamIDretro'],\n",
            "      dtype='object')\n"
          ]
        }
      ],
      "source": [
        "print(pitching_full.columns)"
      ]
    },
    {
      "cell_type": "markdown",
      "metadata": {
        "id": "Sv9P35oUNzMT"
      },
      "source": [
        "##Fangraphs data"
      ]
    },
    {
      "cell_type": "markdown",
      "metadata": {
        "id": "ofPX9E3eOKDl"
      },
      "source": [
        "##Importing and basic cleaning"
      ]
    },
    {
      "cell_type": "markdown",
      "metadata": {
        "id": "UOdGePDXo-jM"
      },
      "source": [
        "need saber data"
      ]
    },
    {
      "cell_type": "code",
      "execution_count": null,
      "metadata": {
        "colab": {
          "base_uri": "https://localhost:8080/"
        },
        "id": "ammysws5hmxQ",
        "outputId": "50f09c18-0c40-4035-ea22-6669f9233d20"
      },
      "outputs": [
        {
          "name": "stdout",
          "output_type": "stream",
          "text": [
            "Collecting pybaseball\n",
            "  Downloading pybaseball-2.2.5-py3-none-any.whl (419 kB)\n",
            "\u001b[?25l     \u001b[90m━━━━━━━━━━━━━━━━━━━━━━━━━━━━━━━━━━━━━━━━\u001b[0m \u001b[32m0.0/420.0 kB\u001b[0m \u001b[31m?\u001b[0m eta \u001b[36m-:--:--\u001b[0m\r\u001b[2K     \u001b[91m━━━━━━━━━━━\u001b[0m\u001b[90m╺\u001b[0m\u001b[90m━━━━━━━━━━━━━━━━━━━━━━━━━━━\u001b[0m \u001b[32m122.9/420.0 kB\u001b[0m \u001b[31m3.6 MB/s\u001b[0m eta \u001b[36m0:00:01\u001b[0m\r\u001b[2K     \u001b[90m━━━━━━━━━━━━━━━━━━━━━━━━━━━━━━━━━━━━━━━\u001b[0m \u001b[32m420.0/420.0 kB\u001b[0m \u001b[31m5.8 MB/s\u001b[0m eta \u001b[36m0:00:00\u001b[0m\n",
            "\u001b[?25hRequirement already satisfied: numpy>=1.13.0 in /usr/local/lib/python3.10/dist-packages (from pybaseball) (1.22.4)\n",
            "Requirement already satisfied: pandas>=1.0.3 in /usr/local/lib/python3.10/dist-packages (from pybaseball) (1.5.3)\n",
            "Requirement already satisfied: beautifulsoup4>=4.4.0 in /usr/local/lib/python3.10/dist-packages (from pybaseball) (4.11.2)\n",
            "Requirement already satisfied: requests>=2.18.1 in /usr/local/lib/python3.10/dist-packages (from pybaseball) (2.27.1)\n",
            "Requirement already satisfied: lxml>=4.2.1 in /usr/local/lib/python3.10/dist-packages (from pybaseball) (4.9.3)\n",
            "Requirement already satisfied: pyarrow>=1.0.1 in /usr/local/lib/python3.10/dist-packages (from pybaseball) (9.0.0)\n",
            "Collecting pygithub>=1.51 (from pybaseball)\n",
            "  Downloading PyGithub-1.59.1-py3-none-any.whl (342 kB)\n",
            "\u001b[2K     \u001b[90m━━━━━━━━━━━━━━━━━━━━━━━━━━━━━━━━━━━━━━\u001b[0m \u001b[32m342.2/342.2 kB\u001b[0m \u001b[31m11.4 MB/s\u001b[0m eta \u001b[36m0:00:00\u001b[0m\n",
            "\u001b[?25hRequirement already satisfied: scipy>=1.4.0 in /usr/local/lib/python3.10/dist-packages (from pybaseball) (1.10.1)\n",
            "Requirement already satisfied: matplotlib>=2.0.0 in /usr/local/lib/python3.10/dist-packages (from pybaseball) (3.7.1)\n",
            "Requirement already satisfied: tqdm>=4.50.0 in /usr/local/lib/python3.10/dist-packages (from pybaseball) (4.65.0)\n",
            "Requirement already satisfied: attrs>=20.3.0 in /usr/local/lib/python3.10/dist-packages (from pybaseball) (23.1.0)\n",
            "Requirement already satisfied: soupsieve>1.2 in /usr/local/lib/python3.10/dist-packages (from beautifulsoup4>=4.4.0->pybaseball) (2.4.1)\n",
            "Requirement already satisfied: contourpy>=1.0.1 in /usr/local/lib/python3.10/dist-packages (from matplotlib>=2.0.0->pybaseball) (1.1.0)\n",
            "Requirement already satisfied: cycler>=0.10 in /usr/local/lib/python3.10/dist-packages (from matplotlib>=2.0.0->pybaseball) (0.11.0)\n",
            "Requirement already satisfied: fonttools>=4.22.0 in /usr/local/lib/python3.10/dist-packages (from matplotlib>=2.0.0->pybaseball) (4.41.1)\n",
            "Requirement already satisfied: kiwisolver>=1.0.1 in /usr/local/lib/python3.10/dist-packages (from matplotlib>=2.0.0->pybaseball) (1.4.4)\n",
            "Requirement already satisfied: packaging>=20.0 in /usr/local/lib/python3.10/dist-packages (from matplotlib>=2.0.0->pybaseball) (23.1)\n",
            "Requirement already satisfied: pillow>=6.2.0 in /usr/local/lib/python3.10/dist-packages (from matplotlib>=2.0.0->pybaseball) (9.4.0)\n",
            "Requirement already satisfied: pyparsing>=2.3.1 in /usr/local/lib/python3.10/dist-packages (from matplotlib>=2.0.0->pybaseball) (3.1.0)\n",
            "Requirement already satisfied: python-dateutil>=2.7 in /usr/local/lib/python3.10/dist-packages (from matplotlib>=2.0.0->pybaseball) (2.8.2)\n",
            "Requirement already satisfied: pytz>=2020.1 in /usr/local/lib/python3.10/dist-packages (from pandas>=1.0.3->pybaseball) (2022.7.1)\n",
            "Collecting deprecated (from pygithub>=1.51->pybaseball)\n",
            "  Downloading Deprecated-1.2.14-py2.py3-none-any.whl (9.6 kB)\n",
            "Collecting pyjwt[crypto]>=2.4.0 (from pygithub>=1.51->pybaseball)\n",
            "  Downloading PyJWT-2.8.0-py3-none-any.whl (22 kB)\n",
            "Collecting pynacl>=1.4.0 (from pygithub>=1.51->pybaseball)\n",
            "  Downloading PyNaCl-1.5.0-cp36-abi3-manylinux_2_17_x86_64.manylinux2014_x86_64.manylinux_2_24_x86_64.whl (856 kB)\n",
            "\u001b[2K     \u001b[90m━━━━━━━━━━━━━━━━━━━━━━━━━━━━━━━━━━━━━━\u001b[0m \u001b[32m856.7/856.7 kB\u001b[0m \u001b[31m15.6 MB/s\u001b[0m eta \u001b[36m0:00:00\u001b[0m\n",
            "\u001b[?25hRequirement already satisfied: urllib3<1.27,>=1.21.1 in /usr/local/lib/python3.10/dist-packages (from requests>=2.18.1->pybaseball) (1.26.16)\n",
            "Requirement already satisfied: certifi>=2017.4.17 in /usr/local/lib/python3.10/dist-packages (from requests>=2.18.1->pybaseball) (2023.7.22)\n",
            "Requirement already satisfied: charset-normalizer~=2.0.0 in /usr/local/lib/python3.10/dist-packages (from requests>=2.18.1->pybaseball) (2.0.12)\n",
            "Requirement already satisfied: idna<4,>=2.5 in /usr/local/lib/python3.10/dist-packages (from requests>=2.18.1->pybaseball) (3.4)\n",
            "Requirement already satisfied: cryptography>=3.4.0 in /usr/lib/python3/dist-packages (from pyjwt[crypto]>=2.4.0->pygithub>=1.51->pybaseball) (3.4.8)\n",
            "Requirement already satisfied: cffi>=1.4.1 in /usr/local/lib/python3.10/dist-packages (from pynacl>=1.4.0->pygithub>=1.51->pybaseball) (1.15.1)\n",
            "Requirement already satisfied: six>=1.5 in /usr/local/lib/python3.10/dist-packages (from python-dateutil>=2.7->matplotlib>=2.0.0->pybaseball) (1.16.0)\n",
            "Requirement already satisfied: wrapt<2,>=1.10 in /usr/local/lib/python3.10/dist-packages (from deprecated->pygithub>=1.51->pybaseball) (1.14.1)\n",
            "Requirement already satisfied: pycparser in /usr/local/lib/python3.10/dist-packages (from cffi>=1.4.1->pynacl>=1.4.0->pygithub>=1.51->pybaseball) (2.21)\n",
            "Installing collected packages: pyjwt, deprecated, pynacl, pygithub, pybaseball\n",
            "  Attempting uninstall: pyjwt\n",
            "    Found existing installation: PyJWT 2.3.0\n",
            "    Uninstalling PyJWT-2.3.0:\n",
            "      Successfully uninstalled PyJWT-2.3.0\n",
            "Successfully installed deprecated-1.2.14 pybaseball-2.2.5 pygithub-1.59.1 pyjwt-2.8.0 pynacl-1.5.0\n"
          ]
        }
      ],
      "source": [
        "!pip install pybaseball"
      ]
    },
    {
      "cell_type": "code",
      "execution_count": null,
      "metadata": {
        "id": "-qu0HVuhc-nR"
      },
      "outputs": [],
      "source": [
        "import pybaseball\n",
        "\n",
        "from pybaseball import pitching_stats\n",
        "from pybaseball import batting_stats\n",
        "\n",
        "fpdata = pitching_stats(1970, 2022)\n",
        "fbdata = batting_stats(1970, 2022)\n"
      ]
    },
    {
      "cell_type": "markdown",
      "metadata": {
        "id": "drKCVPKTgFBq"
      },
      "source": [
        "IDfg, Season, Name, Team, WAR, K/BB, FIP, WHIP"
      ]
    },
    {
      "cell_type": "code",
      "execution_count": null,
      "metadata": {
        "colab": {
          "base_uri": "https://localhost:8080/"
        },
        "id": "-gI1CYHxfCqa",
        "outputId": "72cabef2-0690-4f11-9170-5c8393466a81"
      },
      "outputs": [
        {
          "name": "stdout",
          "output_type": "stream",
          "text": [
            "IDfg\n",
            "Season\n",
            "Name\n",
            "Team\n",
            "Age\n",
            "W\n",
            "L\n",
            "WAR\n",
            "ERA\n",
            "G\n",
            "GS\n",
            "CG\n",
            "ShO\n",
            "SV\n",
            "BS\n",
            "IP\n",
            "TBF\n",
            "H\n",
            "R\n",
            "ER\n",
            "HR\n",
            "BB\n",
            "IBB\n",
            "HBP\n",
            "WP\n",
            "BK\n",
            "SO\n",
            "GB\n",
            "FB\n",
            "LD\n",
            "IFFB\n",
            "Balls\n",
            "Strikes\n",
            "Pitches\n",
            "RS\n",
            "IFH\n",
            "BU\n",
            "BUH\n",
            "K/9\n",
            "BB/9\n",
            "K/BB\n",
            "H/9\n",
            "HR/9\n",
            "AVG\n",
            "WHIP\n",
            "BABIP\n",
            "LOB%\n",
            "FIP\n",
            "GB/FB\n",
            "LD%\n",
            "GB%\n",
            "FB%\n",
            "IFFB%\n",
            "HR/FB\n",
            "IFH%\n",
            "BUH%\n",
            "Starting\n",
            "Start-IP\n",
            "Relieving\n",
            "Relief-IP\n",
            "RAR\n",
            "Dollars\n",
            "tERA\n",
            "xFIP\n",
            "WPA\n",
            "-WPA\n",
            "+WPA\n",
            "RE24\n",
            "REW\n",
            "pLI\n",
            "inLI\n",
            "gmLI\n",
            "exLI\n",
            "Pulls\n",
            "WPA/LI\n",
            "Clutch\n",
            "FB% 2\n",
            "FBv\n",
            "SL%\n",
            "SLv\n",
            "CT%\n",
            "CTv\n",
            "CB%\n",
            "CBv\n",
            "CH%\n",
            "CHv\n",
            "SF%\n",
            "SFv\n",
            "KN%\n",
            "KNv\n",
            "XX%\n",
            "PO%\n",
            "wFB\n",
            "wSL\n",
            "wCT\n",
            "wCB\n",
            "wCH\n",
            "wSF\n",
            "wKN\n",
            "wFB/C\n",
            "wSL/C\n",
            "wCT/C\n",
            "wCB/C\n",
            "wCH/C\n",
            "wSF/C\n",
            "wKN/C\n",
            "O-Swing%\n",
            "Z-Swing%\n",
            "Swing%\n",
            "O-Contact%\n",
            "Z-Contact%\n",
            "Contact%\n",
            "Zone%\n",
            "F-Strike%\n",
            "SwStr%\n",
            "HLD\n",
            "SD\n",
            "MD\n",
            "ERA-\n",
            "FIP-\n",
            "xFIP-\n",
            "K%\n",
            "BB%\n",
            "SIERA\n",
            "RS/9\n",
            "E-F\n",
            "FA% (sc)\n",
            "FT% (sc)\n",
            "FC% (sc)\n",
            "FS% (sc)\n",
            "FO% (sc)\n",
            "SI% (sc)\n",
            "SL% (sc)\n",
            "CU% (sc)\n",
            "KC% (sc)\n",
            "EP% (sc)\n",
            "CH% (sc)\n",
            "SC% (sc)\n",
            "KN% (sc)\n",
            "UN% (sc)\n",
            "vFA (sc)\n",
            "vFT (sc)\n",
            "vFC (sc)\n",
            "vFS (sc)\n",
            "vFO (sc)\n",
            "vSI (sc)\n",
            "vSL (sc)\n",
            "vCU (sc)\n",
            "vKC (sc)\n",
            "vEP (sc)\n",
            "vCH (sc)\n",
            "vSC (sc)\n",
            "vKN (sc)\n",
            "FA-X (sc)\n",
            "FT-X (sc)\n",
            "FC-X (sc)\n",
            "FS-X (sc)\n",
            "FO-X (sc)\n",
            "SI-X (sc)\n",
            "SL-X (sc)\n",
            "CU-X (sc)\n",
            "KC-X (sc)\n",
            "EP-X (sc)\n",
            "CH-X (sc)\n",
            "SC-X (sc)\n",
            "KN-X (sc)\n",
            "FA-Z (sc)\n",
            "FT-Z (sc)\n",
            "FC-Z (sc)\n",
            "FS-Z (sc)\n",
            "FO-Z (sc)\n",
            "SI-Z (sc)\n",
            "SL-Z (sc)\n",
            "CU-Z (sc)\n",
            "KC-Z (sc)\n",
            "EP-Z (sc)\n",
            "CH-Z (sc)\n",
            "SC-Z (sc)\n",
            "KN-Z (sc)\n",
            "wFA (sc)\n",
            "wFT (sc)\n",
            "wFC (sc)\n",
            "wFS (sc)\n",
            "wFO (sc)\n",
            "wSI (sc)\n",
            "wSL (sc)\n",
            "wCU (sc)\n",
            "wKC (sc)\n",
            "wEP (sc)\n",
            "wCH (sc)\n",
            "wSC (sc)\n",
            "wKN (sc)\n",
            "wFA/C (sc)\n",
            "wFT/C (sc)\n",
            "wFC/C (sc)\n",
            "wFS/C (sc)\n",
            "wFO/C (sc)\n",
            "wSI/C (sc)\n",
            "wSL/C (sc)\n",
            "wCU/C (sc)\n",
            "wKC/C (sc)\n",
            "wEP/C (sc)\n",
            "wCH/C (sc)\n",
            "wSC/C (sc)\n",
            "wKN/C (sc)\n",
            "O-Swing% (sc)\n",
            "Z-Swing% (sc)\n",
            "Swing% (sc)\n",
            "O-Contact% (sc)\n",
            "Z-Contact% (sc)\n",
            "Contact% (sc)\n",
            "Zone% (sc)\n",
            "Pace\n",
            "RA9-WAR\n",
            "BIP-Wins\n",
            "LOB-Wins\n",
            "FDP-Wins\n",
            "Age Rng\n",
            "K-BB%\n",
            "Pull%\n",
            "Cent%\n",
            "Oppo%\n",
            "Soft%\n",
            "Med%\n",
            "Hard%\n",
            "kwERA\n",
            "TTO%\n",
            "CH% (pi)\n",
            "CS% (pi)\n",
            "CU% (pi)\n",
            "FA% (pi)\n",
            "FC% (pi)\n",
            "FS% (pi)\n",
            "KN% (pi)\n",
            "SB% (pi)\n",
            "SI% (pi)\n",
            "SL% (pi)\n",
            "XX% (pi)\n",
            "vCH (pi)\n",
            "vCS (pi)\n",
            "vCU (pi)\n",
            "vFA (pi)\n",
            "vFC (pi)\n",
            "vFS (pi)\n",
            "vKN (pi)\n",
            "vSB (pi)\n",
            "vSI (pi)\n",
            "vSL (pi)\n",
            "vXX (pi)\n",
            "CH-X (pi)\n",
            "CS-X (pi)\n",
            "CU-X (pi)\n",
            "FA-X (pi)\n",
            "FC-X (pi)\n",
            "FS-X (pi)\n",
            "KN-X (pi)\n",
            "SB-X (pi)\n",
            "SI-X (pi)\n",
            "SL-X (pi)\n",
            "XX-X (pi)\n",
            "CH-Z (pi)\n",
            "CS-Z (pi)\n",
            "CU-Z (pi)\n",
            "FA-Z (pi)\n",
            "FC-Z (pi)\n",
            "FS-Z (pi)\n",
            "KN-Z (pi)\n",
            "SB-Z (pi)\n",
            "SI-Z (pi)\n",
            "SL-Z (pi)\n",
            "XX-Z (pi)\n",
            "wCH (pi)\n",
            "wCS (pi)\n",
            "wCU (pi)\n",
            "wFA (pi)\n",
            "wFC (pi)\n",
            "wFS (pi)\n",
            "wKN (pi)\n",
            "wSB (pi)\n",
            "wSI (pi)\n",
            "wSL (pi)\n",
            "wXX (pi)\n",
            "wCH/C (pi)\n",
            "wCS/C (pi)\n",
            "wCU/C (pi)\n",
            "wFA/C (pi)\n",
            "wFC/C (pi)\n",
            "wFS/C (pi)\n",
            "wKN/C (pi)\n",
            "wSB/C (pi)\n",
            "wSI/C (pi)\n",
            "wSL/C (pi)\n",
            "wXX/C (pi)\n",
            "O-Swing% (pi)\n",
            "Z-Swing% (pi)\n",
            "Swing% (pi)\n",
            "O-Contact% (pi)\n",
            "Z-Contact% (pi)\n",
            "Contact% (pi)\n",
            "Zone% (pi)\n",
            "Pace (pi)\n",
            "FRM\n",
            "K/9+\n",
            "BB/9+\n",
            "K/BB+\n",
            "H/9+\n",
            "HR/9+\n",
            "AVG+\n",
            "WHIP+\n",
            "BABIP+\n",
            "LOB%+\n",
            "K%+\n",
            "BB%+\n",
            "LD%+\n",
            "GB%+\n",
            "FB%+\n",
            "HR/FB%+\n",
            "Pull%+\n",
            "Cent%+\n",
            "Oppo%+\n",
            "Soft%+\n",
            "Med%+\n",
            "Hard%+\n",
            "EV\n",
            "LA\n",
            "Barrels\n",
            "Barrel%\n",
            "maxEV\n",
            "HardHit\n",
            "HardHit%\n",
            "Events\n",
            "CStr%\n",
            "CSW%\n",
            "xERA\n"
          ]
        }
      ],
      "source": [
        "for i in range(len(fpdata.columns)):\n",
        "    print(fpdata.columns[i])\n"
      ]
    },
    {
      "cell_type": "markdown",
      "metadata": {
        "id": "0SKq05I4CESN"
      },
      "source": [
        "min IP here is 60.1 -> refer that to the beginning"
      ]
    },
    {
      "cell_type": "code",
      "execution_count": null,
      "metadata": {
        "colab": {
          "base_uri": "https://localhost:8080/"
        },
        "id": "qbMAvlHDxRdK",
        "outputId": "4a5d0373-822d-4a2f-c1da-b8417c8e0da3"
      },
      "outputs": [
        {
          "name": "stdout",
          "output_type": "stream",
          "text": [
            "60.1\n"
          ]
        }
      ],
      "source": [
        "print(min(fpdata['IP']))"
      ]
    },
    {
      "cell_type": "code",
      "execution_count": null,
      "metadata": {
        "id": "v0bytOyXim_B"
      },
      "outputs": [],
      "source": [
        "fpdata = fpdata[['IDfg', 'Season', 'Name', 'Team', 'WAR', 'K/BB', 'FIP', 'WHIP']]"
      ]
    },
    {
      "cell_type": "code",
      "execution_count": null,
      "metadata": {
        "colab": {
          "base_uri": "https://localhost:8080/"
        },
        "id": "6CL2H6QRRjuA",
        "outputId": "d0e33af3-a0e6-4974-ee3b-6827d5fb7c6b"
      },
      "outputs": [
        {
          "name": "stdout",
          "output_type": "stream",
          "text": [
            "<class 'pandas.core.frame.DataFrame'>\n",
            "Int64Index: 4300 entries, 33 to 4022\n",
            "Data columns (total 8 columns):\n",
            " #   Column  Non-Null Count  Dtype  \n",
            "---  ------  --------------  -----  \n",
            " 0   IDfg    4300 non-null   int64  \n",
            " 1   Season  4300 non-null   int64  \n",
            " 2   Name    4300 non-null   object \n",
            " 3   Team    4300 non-null   object \n",
            " 4   WAR     4300 non-null   float64\n",
            " 5   K/BB    4300 non-null   float64\n",
            " 6   FIP     4300 non-null   float64\n",
            " 7   WHIP    4300 non-null   float64\n",
            "dtypes: float64(4), int64(2), object(2)\n",
            "memory usage: 302.3+ KB\n"
          ]
        }
      ],
      "source": [
        "fpdata.info()"
      ]
    },
    {
      "cell_type": "code",
      "execution_count": null,
      "metadata": {
        "colab": {
          "base_uri": "https://localhost:8080/"
        },
        "id": "YacmrxDyxpyh",
        "outputId": "022f11e8-0459-4f33-bcb7-501da53fa4a3"
      },
      "outputs": [
        {
          "name": "stdout",
          "output_type": "stream",
          "text": [
            "154\n"
          ]
        }
      ],
      "source": [
        "print(min(fbdata['AB']))"
      ]
    },
    {
      "cell_type": "code",
      "execution_count": null,
      "metadata": {
        "colab": {
          "base_uri": "https://localhost:8080/"
        },
        "id": "QVcbI9pPfVah",
        "outputId": "9d263f79-a8c4-4752-c599-65ccb10d9e30"
      },
      "outputs": [
        {
          "name": "stdout",
          "output_type": "stream",
          "text": [
            "IDfg\n",
            "Season\n",
            "Name\n",
            "Team\n",
            "Age\n",
            "G\n",
            "AB\n",
            "PA\n",
            "H\n",
            "1B\n",
            "2B\n",
            "3B\n",
            "HR\n",
            "R\n",
            "RBI\n",
            "BB\n",
            "IBB\n",
            "SO\n",
            "HBP\n",
            "SF\n",
            "SH\n",
            "GDP\n",
            "SB\n",
            "CS\n",
            "AVG\n",
            "GB\n",
            "FB\n",
            "LD\n",
            "IFFB\n",
            "Pitches\n",
            "Balls\n",
            "Strikes\n",
            "IFH\n",
            "BU\n",
            "BUH\n",
            "BB%\n",
            "K%\n",
            "BB/K\n",
            "OBP\n",
            "SLG\n",
            "OPS\n",
            "ISO\n",
            "BABIP\n",
            "GB/FB\n",
            "LD%\n",
            "GB%\n",
            "FB%\n",
            "IFFB%\n",
            "HR/FB\n",
            "IFH%\n",
            "BUH%\n",
            "wOBA\n",
            "wRAA\n",
            "wRC\n",
            "Bat\n",
            "Fld\n",
            "Rep\n",
            "Pos\n",
            "RAR\n",
            "WAR\n",
            "Dol\n",
            "Spd\n",
            "wRC+\n",
            "WPA\n",
            "-WPA\n",
            "+WPA\n",
            "RE24\n",
            "REW\n",
            "pLI\n",
            "phLI\n",
            "PH\n",
            "WPA/LI\n",
            "Clutch\n",
            "FB% (Pitch)\n",
            "FBv\n",
            "SL%\n",
            "SLv\n",
            "CT%\n",
            "CTv\n",
            "CB%\n",
            "CBv\n",
            "CH%\n",
            "CHv\n",
            "SF%\n",
            "SFv\n",
            "KN%\n",
            "KNv\n",
            "XX%\n",
            "PO%\n",
            "wFB\n",
            "wSL\n",
            "wCT\n",
            "wCB\n",
            "wCH\n",
            "wSF\n",
            "wKN\n",
            "wFB/C\n",
            "wSL/C\n",
            "wCT/C\n",
            "wCB/C\n",
            "wCH/C\n",
            "wSF/C\n",
            "wKN/C\n",
            "O-Swing%\n",
            "Z-Swing%\n",
            "Swing%\n",
            "O-Contact%\n",
            "Z-Contact%\n",
            "Contact%\n",
            "Zone%\n",
            "F-Strike%\n",
            "SwStr%\n",
            "BsR\n",
            "FA% (sc)\n",
            "FT% (sc)\n",
            "FC% (sc)\n",
            "FS% (sc)\n",
            "FO% (sc)\n",
            "SI% (sc)\n",
            "SL% (sc)\n",
            "CU% (sc)\n",
            "KC% (sc)\n",
            "EP% (sc)\n",
            "CH% (sc)\n",
            "SC% (sc)\n",
            "KN% (sc)\n",
            "UN% (sc)\n",
            "vFA (sc)\n",
            "vFT (sc)\n",
            "vFC (sc)\n",
            "vFS (sc)\n",
            "vFO (sc)\n",
            "vSI (sc)\n",
            "vSL (sc)\n",
            "vCU (sc)\n",
            "vKC (sc)\n",
            "vEP (sc)\n",
            "vCH (sc)\n",
            "vSC (sc)\n",
            "vKN (sc)\n",
            "FA-X (sc)\n",
            "FT-X (sc)\n",
            "FC-X (sc)\n",
            "FS-X (sc)\n",
            "FO-X (sc)\n",
            "SI-X (sc)\n",
            "SL-X (sc)\n",
            "CU-X (sc)\n",
            "KC-X (sc)\n",
            "EP-X (sc)\n",
            "CH-X (sc)\n",
            "SC-X (sc)\n",
            "KN-X (sc)\n",
            "FA-Z (sc)\n",
            "FT-Z (sc)\n",
            "FC-Z (sc)\n",
            "FS-Z (sc)\n",
            "FO-Z (sc)\n",
            "SI-Z (sc)\n",
            "SL-Z (sc)\n",
            "CU-Z (sc)\n",
            "KC-Z (sc)\n",
            "EP-Z (sc)\n",
            "CH-Z (sc)\n",
            "SC-Z (sc)\n",
            "KN-Z (sc)\n",
            "wFA (sc)\n",
            "wFT (sc)\n",
            "wFC (sc)\n",
            "wFS (sc)\n",
            "wFO (sc)\n",
            "wSI (sc)\n",
            "wSL (sc)\n",
            "wCU (sc)\n",
            "wKC (sc)\n",
            "wEP (sc)\n",
            "wCH (sc)\n",
            "wSC (sc)\n",
            "wKN (sc)\n",
            "wFA/C (sc)\n",
            "wFT/C (sc)\n",
            "wFC/C (sc)\n",
            "wFS/C (sc)\n",
            "wFO/C (sc)\n",
            "wSI/C (sc)\n",
            "wSL/C (sc)\n",
            "wCU/C (sc)\n",
            "wKC/C (sc)\n",
            "wEP/C (sc)\n",
            "wCH/C (sc)\n",
            "wSC/C (sc)\n",
            "wKN/C (sc)\n",
            "O-Swing% (sc)\n",
            "Z-Swing% (sc)\n",
            "Swing% (sc)\n",
            "O-Contact% (sc)\n",
            "Z-Contact% (sc)\n",
            "Contact% (sc)\n",
            "Zone% (sc)\n",
            "Pace\n",
            "Def\n",
            "wSB\n",
            "UBR\n",
            "Age Rng\n",
            "Off\n",
            "Lg\n",
            "wGDP\n",
            "Pull%\n",
            "Cent%\n",
            "Oppo%\n",
            "Soft%\n",
            "Med%\n",
            "Hard%\n",
            "TTO%\n",
            "CH% (pi)\n",
            "CS% (pi)\n",
            "CU% (pi)\n",
            "FA% (pi)\n",
            "FC% (pi)\n",
            "FS% (pi)\n",
            "KN% (pi)\n",
            "SB% (pi)\n",
            "SI% (pi)\n",
            "SL% (pi)\n",
            "XX% (pi)\n",
            "vCH (pi)\n",
            "vCS (pi)\n",
            "vCU (pi)\n",
            "vFA (pi)\n",
            "vFC (pi)\n",
            "vFS (pi)\n",
            "vKN (pi)\n",
            "vSB (pi)\n",
            "vSI (pi)\n",
            "vSL (pi)\n",
            "vXX (pi)\n",
            "CH-X (pi)\n",
            "CS-X (pi)\n",
            "CU-X (pi)\n",
            "FA-X (pi)\n",
            "FC-X (pi)\n",
            "FS-X (pi)\n",
            "KN-X (pi)\n",
            "SB-X (pi)\n",
            "SI-X (pi)\n",
            "SL-X (pi)\n",
            "XX-X (pi)\n",
            "CH-Z (pi)\n",
            "CS-Z (pi)\n",
            "CU-Z (pi)\n",
            "FA-Z (pi)\n",
            "FC-Z (pi)\n",
            "FS-Z (pi)\n",
            "KN-Z (pi)\n",
            "SB-Z (pi)\n",
            "SI-Z (pi)\n",
            "SL-Z (pi)\n",
            "XX-Z (pi)\n",
            "wCH (pi)\n",
            "wCS (pi)\n",
            "wCU (pi)\n",
            "wFA (pi)\n",
            "wFC (pi)\n",
            "wFS (pi)\n",
            "wKN (pi)\n",
            "wSB (pi)\n",
            "wSI (pi)\n",
            "wSL (pi)\n",
            "wXX (pi)\n",
            "wCH/C (pi)\n",
            "wCS/C (pi)\n",
            "wCU/C (pi)\n",
            "wFA/C (pi)\n",
            "wFC/C (pi)\n",
            "wFS/C (pi)\n",
            "wKN/C (pi)\n",
            "wSB/C (pi)\n",
            "wSI/C (pi)\n",
            "wSL/C (pi)\n",
            "wXX/C (pi)\n",
            "O-Swing% (pi)\n",
            "Z-Swing% (pi)\n",
            "Swing% (pi)\n",
            "O-Contact% (pi)\n",
            "Z-Contact% (pi)\n",
            "Contact% (pi)\n",
            "Zone% (pi)\n",
            "Pace (pi)\n",
            "FRM\n",
            "AVG+\n",
            "BB%+\n",
            "K%+\n",
            "OBP+\n",
            "SLG+\n",
            "ISO+\n",
            "BABIP+\n",
            "LD+%\n",
            "GB%+\n",
            "FB%+\n",
            "HR/FB%+\n",
            "Pull%+\n",
            "Cent%+\n",
            "Oppo%+\n",
            "Soft%+\n",
            "Med%+\n",
            "Hard%+\n",
            "EV\n",
            "LA\n",
            "Barrels\n",
            "Barrel%\n",
            "maxEV\n",
            "HardHit\n",
            "HardHit%\n",
            "Events\n",
            "CStr%\n",
            "CSW%\n",
            "xBA\n",
            "xSLG\n",
            "xwOBA\n",
            "L-WAR\n"
          ]
        }
      ],
      "source": [
        "for i in range(len(fbdata.columns)):\n",
        "    print(fbdata.columns[i])"
      ]
    },
    {
      "cell_type": "markdown",
      "metadata": {
        "id": "y7uv9OhHoqMM"
      },
      "source": [
        "only select things i will use"
      ]
    },
    {
      "cell_type": "markdown",
      "metadata": {
        "id": "955zs7WOholJ"
      },
      "source": [
        "IDfg, Season, Name, Team, BB/K, OPS, ISO, BABIP, wSB, wRC, wOBA, WRC+, off, def, war"
      ]
    },
    {
      "cell_type": "code",
      "execution_count": null,
      "metadata": {
        "id": "V-jByo-KjSd3"
      },
      "outputs": [],
      "source": [
        "fbdata = fbdata[['IDfg', 'Season', 'BB/K', 'OPS', 'ISO', 'BABIP', 'wOBA', 'wRC+', 'Off', 'Def', 'WAR']]"
      ]
    },
    {
      "cell_type": "code",
      "execution_count": null,
      "metadata": {
        "colab": {
          "base_uri": "https://localhost:8080/"
        },
        "id": "GgzoMpPjjx7f",
        "outputId": "c24c3097-b442-4d36-a358-50f32751a333"
      },
      "outputs": [
        {
          "data": {
            "text/plain": [
              "<bound method NDFrame.head of          IDfg  Season  BB/K    OPS    ISO  BABIP   wOBA  wRC+    Off   Def  \\\n",
              "0        1109    2002  4.21  1.381  0.429  0.330  0.544   244  108.9  -2.0   \n",
              "2        1109    2001  1.90  1.379  0.536  0.266  0.537   235  118.0 -12.0   \n",
              "1        1109    2004  5.66  1.422  0.450  0.310  0.537   233  105.7  -4.4   \n",
              "32      15640    2022  0.63  1.111  0.375  0.340  0.458   207   86.1   1.1   \n",
              "76    1009179    1975  2.54  0.974  0.181  0.336  0.443   176   65.6  17.3   \n",
              "...       ...     ...   ...    ...    ...    ...    ...   ...    ...   ...   \n",
              "6739  1010427    1993  0.91  0.654  0.056  0.295  0.295    76  -17.3 -28.5   \n",
              "7387     9272    2018  0.21  0.539  0.128  0.237  0.239    46  -35.5  -7.1   \n",
              "7329      595    1999  0.56  0.577  0.047  0.264  0.261    46  -44.9  -3.3   \n",
              "7377      620    2002  0.38  0.564  0.067  0.254  0.247    39  -43.6  -5.4   \n",
              "5932       57    1997  0.19  0.712  0.145  0.298  0.312    82  -12.9 -34.7   \n",
              "\n",
              "       WAR  \n",
              "0     12.7  \n",
              "2     12.5  \n",
              "1     11.9  \n",
              "32    11.5  \n",
              "76    11.0  \n",
              "...    ...  \n",
              "6739  -2.6  \n",
              "7387  -2.6  \n",
              "7329  -2.7  \n",
              "7377  -2.9  \n",
              "5932  -3.1  \n",
              "\n",
              "[7392 rows x 11 columns]>"
            ]
          },
          "execution_count": 21,
          "metadata": {},
          "output_type": "execute_result"
        }
      ],
      "source": [
        "fbdata.head"
      ]
    },
    {
      "cell_type": "markdown",
      "metadata": {
        "id": "6fStne5kOtJP"
      },
      "source": [
        "##Joining Tables"
      ]
    },
    {
      "cell_type": "code",
      "execution_count": null,
      "metadata": {
        "colab": {
          "base_uri": "https://localhost:8080/"
        },
        "id": "uodrWMetkYb_",
        "outputId": "213b1808-f633-46a3-96b4-7167ecdc1f3c"
      },
      "outputs": [
        {
          "name": "stdout",
          "output_type": "stream",
          "text": [
            "Gathering player lookup table. This may take a moment.\n",
            "0    morgj001\n",
            "Name: key_retro, dtype: object\n"
          ]
        }
      ],
      "source": [
        "from pybaseball import playerid_reverse_lookup\n",
        "\n",
        "test = playerid_reverse_lookup([1009179], key_type='fangraphs')\n",
        "#print(test['key_retro'])\n",
        "\n",
        "print(playerid_reverse_lookup([1009179], key_type='fangraphs')['key_retro'])"
      ]
    },
    {
      "cell_type": "markdown",
      "metadata": {
        "id": "D0kzU8NQouPE"
      },
      "source": [
        "fg ID -> retro ID to connect"
      ]
    },
    {
      "cell_type": "code",
      "execution_count": null,
      "metadata": {
        "id": "DkyheV1glWqJ"
      },
      "outputs": [],
      "source": [
        "fbdata1 = fbdata\n",
        "\n",
        "fbdata1['IDretro'] = fbdata1.apply(lambda x: playerid_reverse_lookup([x['IDfg']], key_type='fangraphs')['key_retro'], axis=1)\n",
        "\n",
        "fpdata1 = fpdata\n",
        "\n",
        "fpdata1['IDretro'] = fpdata1.apply(lambda x: playerid_reverse_lookup([x['IDfg']], key_type='fangraphs')['key_retro'], axis=1)\n"
      ]
    },
    {
      "cell_type": "code",
      "execution_count": null,
      "metadata": {
        "colab": {
          "base_uri": "https://localhost:8080/"
        },
        "id": "6XFNgl0TzNKn",
        "outputId": "c4d4c65c-26b3-4589-dbdc-227946ab3a55"
      },
      "outputs": [
        {
          "data": {
            "text/plain": [
              "<bound method NDFrame.head of          IDfg  Season  BB/K    OPS    ISO  BABIP   wOBA  wRC+    Off   Def  \\\n",
              "0        1109    2002  4.21  1.381  0.429  0.330  0.544   244  108.9  -2.0   \n",
              "2        1109    2001  1.90  1.379  0.536  0.266  0.537   235  118.0 -12.0   \n",
              "1        1109    2004  5.66  1.422  0.450  0.310  0.537   233  105.7  -4.4   \n",
              "32      15640    2022  0.63  1.111  0.375  0.340  0.458   207   86.1   1.1   \n",
              "76    1009179    1975  2.54  0.974  0.181  0.336  0.443   176   65.6  17.3   \n",
              "...       ...     ...   ...    ...    ...    ...    ...   ...    ...   ...   \n",
              "6739  1010427    1993  0.91  0.654  0.056  0.295  0.295    76  -17.3 -28.5   \n",
              "7387     9272    2018  0.21  0.539  0.128  0.237  0.239    46  -35.5  -7.1   \n",
              "7329      595    1999  0.56  0.577  0.047  0.264  0.261    46  -44.9  -3.3   \n",
              "7377      620    2002  0.38  0.564  0.067  0.254  0.247    39  -43.6  -5.4   \n",
              "5932       57    1997  0.19  0.712  0.145  0.298  0.312    82  -12.9 -34.7   \n",
              "\n",
              "       WAR   IDretro  \n",
              "0     12.7  bondb001  \n",
              "2     12.5  bondb001  \n",
              "1     11.9  bondb001  \n",
              "32    11.5  judga001  \n",
              "76    11.0  morgj001  \n",
              "...    ...       ...  \n",
              "6739  -2.6  polol001  \n",
              "7387  -2.6  davic003  \n",
              "7329  -2.7  carum001  \n",
              "7377  -2.9  peren001  \n",
              "5932  -3.1  guilj001  \n",
              "\n",
              "[7392 rows x 12 columns]>"
            ]
          },
          "execution_count": 24,
          "metadata": {},
          "output_type": "execute_result"
        }
      ],
      "source": [
        "fbdata.head"
      ]
    },
    {
      "cell_type": "code",
      "execution_count": null,
      "metadata": {
        "colab": {
          "base_uri": "https://localhost:8080/"
        },
        "id": "P-hrMFRemFee",
        "outputId": "3f20c6f1-5b06-43c3-e9d2-56c1e127b4bd"
      },
      "outputs": [
        {
          "data": {
            "text/plain": [
              "<bound method NDFrame.head of          IDfg  Season  BB/K    OPS    ISO  BABIP   wOBA  wRC+    Off   Def  \\\n",
              "0        1109    2002  4.21  1.381  0.429  0.330  0.544   244  108.9  -2.0   \n",
              "2        1109    2001  1.90  1.379  0.536  0.266  0.537   235  118.0 -12.0   \n",
              "1        1109    2004  5.66  1.422  0.450  0.310  0.537   233  105.7  -4.4   \n",
              "32      15640    2022  0.63  1.111  0.375  0.340  0.458   207   86.1   1.1   \n",
              "76    1009179    1975  2.54  0.974  0.181  0.336  0.443   176   65.6  17.3   \n",
              "...       ...     ...   ...    ...    ...    ...    ...   ...    ...   ...   \n",
              "6739  1010427    1993  0.91  0.654  0.056  0.295  0.295    76  -17.3 -28.5   \n",
              "7387     9272    2018  0.21  0.539  0.128  0.237  0.239    46  -35.5  -7.1   \n",
              "7329      595    1999  0.56  0.577  0.047  0.264  0.261    46  -44.9  -3.3   \n",
              "7377      620    2002  0.38  0.564  0.067  0.254  0.247    39  -43.6  -5.4   \n",
              "5932       57    1997  0.19  0.712  0.145  0.298  0.312    82  -12.9 -34.7   \n",
              "\n",
              "       WAR   IDretro  \n",
              "0     12.7  bondb001  \n",
              "2     12.5  bondb001  \n",
              "1     11.9  bondb001  \n",
              "32    11.5  judga001  \n",
              "76    11.0  morgj001  \n",
              "...    ...       ...  \n",
              "6739  -2.6  polol001  \n",
              "7387  -2.6  davic003  \n",
              "7329  -2.7  carum001  \n",
              "7377  -2.9  peren001  \n",
              "5932  -3.1  guilj001  \n",
              "\n",
              "[7392 rows x 12 columns]>"
            ]
          },
          "execution_count": 25,
          "metadata": {},
          "output_type": "execute_result"
        }
      ],
      "source": [
        "fbdata1.head"
      ]
    },
    {
      "cell_type": "code",
      "execution_count": null,
      "metadata": {
        "colab": {
          "base_uri": "https://localhost:8080/"
        },
        "id": "VKzM5Sh9zQro",
        "outputId": "9559c5de-1c77-446f-d563-7e09b71740e7"
      },
      "outputs": [
        {
          "data": {
            "text/plain": [
              "<bound method NDFrame.head of         playerID  yearID  stint teamID lgID    G   AB    R    H  2B  ...   W  \\\n",
              "0      aaronha01    1970      1    ATL   NL  150  516  103  154  26  ...  76   \n",
              "1       ageeto01    1970      1    NYN   NL  153  636  107  182  30  ...  83   \n",
              "2      allenbe01    1970      1    WS2   AL  104  261   31   61   7  ...  70   \n",
              "3      allendi01    1970      1    SLN   NL  122  459   88  128  17  ...  76   \n",
              "4      alleyge01    1970      1    PIT   NL  121  426   46  104  16  ...  89   \n",
              "...          ...     ...    ...    ...  ...  ...  ...  ...  ...  ..  ...  ..   \n",
              "16315  wynnsau01    2022      1    SFN   NL   66  162   14   42   7  ...  81   \n",
              "16316  yastrmi01    2022      1    SFN   NL  148  485   73  104  31  ...  81   \n",
              "16317  yelicch01    2022      1    MIL   NL  154  575   99  145  25  ...  86   \n",
              "16318  yepezju01    2022      1    SLN   NL   76  253   27   64  13  ...  93   \n",
              "16319  zavalse01    2022      1    CHA   AL   61  178   22   48  14  ...  81   \n",
              "\n",
              "        L                  name                               park  \\\n",
              "0      86        Atlanta Braves      Atlanta-Fulton County Stadium   \n",
              "1      79         New York Mets                       Shea Stadium   \n",
              "2      92   Washington Senators                     R.F.K. Stadium   \n",
              "3      86   St. Louis Cardinals                   Busch Stadium II   \n",
              "4      73    Pittsburgh Pirates  Forbes Field/Three Rivers Stadium   \n",
              "...    ..                   ...                                ...   \n",
              "16315  81  San Francisco Giants                        Oracle Park   \n",
              "16316  81  San Francisco Giants                        Oracle Park   \n",
              "16317  76     Milwaukee Brewers                        Miller Park   \n",
              "16318  69   St. Louis Cardinals                  Busch Stadium III   \n",
              "16319  81     Chicago White Sox              Guaranteed Rate Field   \n",
              "\n",
              "       attendance  BPF  PPF  teamIDBR  teamIDlahman45  teamIDretro  \n",
              "0       1078848.0  106  106       ATL             ATL          ATL  \n",
              "1       2697479.0  100   99       NYM             NYN          NYN  \n",
              "2        824789.0   95   95       WSA             WS2          WS2  \n",
              "3       1629736.0  103  102       STL             SLN          SLN  \n",
              "4       1341947.0   97   96       PIT             PIT          PIT  \n",
              "...           ...  ...  ...       ...             ...          ...  \n",
              "16315   2482686.0   99   99       SFG             SFN          SFN  \n",
              "16316   2482686.0   99   99       SFG             SFN          SFN  \n",
              "16317   2422420.0   98   97       MIL             ML4          MIL  \n",
              "16318   3320551.0   94   94       STL             SLN          SLN  \n",
              "16319   2009359.0  103  102       CHW             CHA          CHA  \n",
              "\n",
              "[16320 rows x 51 columns]>"
            ]
          },
          "execution_count": 26,
          "metadata": {},
          "output_type": "execute_result"
        }
      ],
      "source": [
        "batting_full.head"
      ]
    },
    {
      "cell_type": "code",
      "execution_count": null,
      "metadata": {
        "id": "E10KeAlM1p0h"
      },
      "outputs": [],
      "source": [
        "batting_full_fg = pd.merge(batting_full, fbdata1, left_on=['retroID','yearID'],right_on=['IDretro','Season'], how='left').drop(columns=['lgID_y', 'G_y'])\n"
      ]
    },
    {
      "cell_type": "code",
      "execution_count": null,
      "metadata": {
        "colab": {
          "base_uri": "https://localhost:8080/"
        },
        "id": "X9SUUPqC5L95",
        "outputId": "cff95c26-737e-40df-e358-67a659588f83"
      },
      "outputs": [
        {
          "name": "stdout",
          "output_type": "stream",
          "text": [
            "Index(['playerID', 'yearID', 'stint', 'teamID', 'lgID', 'G', 'AB', 'R', 'H',\n",
            "       '2B', '3B', 'HR', 'RBI', 'SB', 'CS', 'BB', 'SO', 'IBB', 'HBP', 'SH',\n",
            "       'SF', 'GIDP', 'BA', 'OBP', 'SLG', 'OPS_x', 'nameFirst', 'nameLast',\n",
            "       'nameGiven', 'weight', 'height', 'retroID', 'bbrefID', 'startingPos',\n",
            "       'isAS', 'salary', 'franchID', 'divID', 'Ghome', 'W', 'L', 'name',\n",
            "       'park', 'attendance', 'BPF', 'PPF', 'teamIDBR', 'teamIDlahman45',\n",
            "       'teamIDretro', 'IDfg', 'Season', 'BB/K', 'OPS_y', 'ISO', 'BABIP',\n",
            "       'wOBA', 'wRC+', 'Off', 'Def', 'WAR', 'IDretro'],\n",
            "      dtype='object')\n"
          ]
        }
      ],
      "source": [
        "print(batting_full_fg.columns)"
      ]
    },
    {
      "cell_type": "code",
      "execution_count": null,
      "metadata": {
        "id": "p45sxT3VFDTC"
      },
      "outputs": [],
      "source": [
        "pitching_full_fg = pd.merge(pitching_full, fpdata1, left_on=['retroID','yearID'],right_on=['IDretro','Season'], how='left').drop(columns=['lgID_y', 'G_y'])"
      ]
    },
    {
      "cell_type": "markdown",
      "metadata": {
        "id": "ubx1xFANO0bI"
      },
      "source": [
        "## Bref data"
      ]
    },
    {
      "cell_type": "markdown",
      "metadata": {
        "id": "aimJPjqVO3kI"
      },
      "source": [
        "##Importing and cleaning"
      ]
    },
    {
      "cell_type": "markdown",
      "metadata": {
        "id": "wtM782XuFB55"
      },
      "source": [
        "lets get baseball ref data too! cuz fwar vs bwar you know and all"
      ]
    },
    {
      "cell_type": "code",
      "execution_count": null,
      "metadata": {
        "id": "1RePsZitF69o"
      },
      "outputs": [],
      "source": [
        "from pybaseball import bwar_bat\n",
        "from pybaseball import bwar_pitch\n",
        "\n",
        "# get war stats from baseball reference\n",
        "bref = bwar_bat()\n",
        "brefp = bwar_pitch()\n"
      ]
    },
    {
      "cell_type": "markdown",
      "metadata": {
        "id": "8_BlWE6QFHcU"
      },
      "source": [
        "return all = true brings in more pieces of data. lets see if we will end up using them"
      ]
    },
    {
      "cell_type": "code",
      "execution_count": null,
      "metadata": {
        "id": "kw0NOrza3G3r"
      },
      "outputs": [],
      "source": [
        "brefasdf = bwar_bat(return_all=True)\n",
        "brefpasdf = bwar_pitch(return_all=True)"
      ]
    },
    {
      "cell_type": "code",
      "execution_count": null,
      "metadata": {
        "colab": {
          "base_uri": "https://localhost:8080/"
        },
        "id": "13BmW2Dz3Jej",
        "outputId": "ca6393ab-07b4-4cc1-be5d-7a8c5b6e0a61"
      },
      "outputs": [
        {
          "data": {
            "text/plain": [
              "Index(['name_common', 'age', 'mlb_ID', 'player_ID', 'year_ID', 'team_ID',\n",
              "       'stint_ID', 'lg_ID', 'PA', 'G', 'Inn', 'runs_bat', 'runs_br', 'runs_dp',\n",
              "       'runs_field', 'runs_infield', 'runs_outfield', 'runs_catcher',\n",
              "       'runs_good_plays', 'runs_defense', 'runs_position', 'runs_position_p',\n",
              "       'runs_replacement', 'runs_above_rep', 'runs_above_avg',\n",
              "       'runs_above_avg_off', 'runs_above_avg_def', 'WAA', 'WAA_off', 'WAA_def',\n",
              "       'WAR', 'WAR_def', 'WAR_off', 'WAR_rep', 'salary', 'pitcher', 'teamRpG',\n",
              "       'oppRpG', 'oppRpPA_rep', 'oppRpG_rep', 'pyth_exponent',\n",
              "       'pyth_exponent_rep', 'waa_win_perc', 'waa_win_perc_off',\n",
              "       'waa_win_perc_def', 'waa_win_perc_rep', 'OPS_plus', 'TOB_lg', 'TB_lg'],\n",
              "      dtype='object')"
            ]
          },
          "execution_count": 32,
          "metadata": {},
          "output_type": "execute_result"
        }
      ],
      "source": [
        "brefasdf.columns"
      ]
    },
    {
      "cell_type": "code",
      "execution_count": null,
      "metadata": {
        "colab": {
          "base_uri": "https://localhost:8080/"
        },
        "id": "0yP7FvTb6ATG",
        "outputId": "25fda540-a546-4aea-9b0c-26f220f215d2"
      },
      "outputs": [
        {
          "data": {
            "text/plain": [
              "Index(['name_common', 'age', 'mlb_ID', 'player_ID', 'year_ID', 'team_ID',\n",
              "       'stint_ID', 'lg_ID', 'G', 'GS', 'IPouts', 'IPouts_start',\n",
              "       'IPouts_relief', 'RA', 'xRA', 'xRA_sprp_adj', 'xRA_extras_adj',\n",
              "       'xRA_def_pitcher', 'PPF', 'PPF_custom', 'xRA_final', 'BIP', 'BIP_perc',\n",
              "       'RS_def_total', 'runs_above_avg', 'runs_above_avg_adj',\n",
              "       'runs_above_rep', 'RpO_replacement', 'GR_leverage_index_avg', 'WAR',\n",
              "       'salary', 'teamRpG', 'oppRpG', 'pyth_exponent', 'waa_win_perc', 'WAA',\n",
              "       'WAA_adj', 'oppRpG_rep', 'pyth_exponent_rep', 'waa_win_perc_rep',\n",
              "       'WAR_rep', 'ERA_plus', 'ER_lg'],\n",
              "      dtype='object')"
            ]
          },
          "execution_count": 33,
          "metadata": {},
          "output_type": "execute_result"
        }
      ],
      "source": [
        "brefpasdf.columns"
      ]
    },
    {
      "cell_type": "code",
      "execution_count": null,
      "metadata": {
        "colab": {
          "base_uri": "https://localhost:8080/"
        },
        "id": "4VSen6H8F9r4",
        "outputId": "91584b18-ca90-4b3c-d21c-166570b09821"
      },
      "outputs": [
        {
          "name": "stderr",
          "output_type": "stream",
          "text": [
            "<ipython-input-34-51fa5fdd1aef>:3: SettingWithCopyWarning: \n",
            "A value is trying to be set on a copy of a slice from a DataFrame.\n",
            "Try using .loc[row_indexer,col_indexer] = value instead\n",
            "\n",
            "See the caveats in the documentation: https://pandas.pydata.org/pandas-docs/stable/user_guide/indexing.html#returning-a-view-versus-a-copy\n",
            "  brefbat['OPS+'] = brefasdf['OPS_plus']\n",
            "<ipython-input-34-51fa5fdd1aef>:4: SettingWithCopyWarning: \n",
            "A value is trying to be set on a copy of a slice from a DataFrame.\n",
            "Try using .loc[row_indexer,col_indexer] = value instead\n",
            "\n",
            "See the caveats in the documentation: https://pandas.pydata.org/pandas-docs/stable/user_guide/indexing.html#returning-a-view-versus-a-copy\n",
            "  brefpit['ERA+'] = brefpasdf['ERA_plus']\n"
          ]
        },
        {
          "data": {
            "text/plain": [
              "<bound method NDFrame.head of            name_common    mlb_ID  player_ID  year_ID team_ID  stint_ID lg_ID  \\\n",
              "9          Henry Aaron  110001.0  aaronha01     1954     MLN         1    NL   \n",
              "10         Henry Aaron  110001.0  aaronha01     1955     MLN         1    NL   \n",
              "11         Henry Aaron  110001.0  aaronha01     1956     MLN         1    NL   \n",
              "12         Henry Aaron  110001.0  aaronha01     1957     MLN         1    NL   \n",
              "13         Henry Aaron  110001.0  aaronha01     1958     MLN         1    NL   \n",
              "...                ...       ...        ...      ...     ...       ...   ...   \n",
              "121456    Paul Zuvella  124789.0  zuvelpa01     1991     KCR         1    AL   \n",
              "121467  Dutch Zwilling  124791.0  zwilldu01     1910     CHW         1    AL   \n",
              "121468  Dutch Zwilling  124791.0  zwilldu01     1914     CHI         1    FL   \n",
              "121469  Dutch Zwilling  124791.0  zwilldu01     1915     CHI         1    FL   \n",
              "121470  Dutch Zwilling  124791.0  zwilldu01     1916     CHC         1    NL   \n",
              "\n",
              "       pitcher    G     PA   salary  runs_above_avg  runs_above_avg_off  \\\n",
              "9            N  122  509.0   6000.0            -3.3                -2.3   \n",
              "10           N  153  665.0  10000.0            39.9                32.8   \n",
              "11           N  153  660.0  17500.0            47.2                32.3   \n",
              "12           N  151  675.0  22500.0            54.9                50.8   \n",
              "13           N  153  664.0  35000.0            47.8                39.7   \n",
              "...        ...  ...    ...      ...             ...                 ...   \n",
              "121456       N    2    0.0      NaN            -0.6                 0.0   \n",
              "121467       N   27  100.0      NaN            -3.4                -3.4   \n",
              "121468       N  154  649.0      NaN            36.5                28.5   \n",
              "121469       N  150  636.0      NaN            27.6                23.6   \n",
              "121470       N   35   59.0   3250.0            -6.7                -5.7   \n",
              "\n",
              "        runs_above_avg_def  WAR_rep   WAA   WAR        OPS+  \n",
              "9                     -6.3     1.88 -0.46  1.42  103.883868  \n",
              "10                     2.1     2.48  3.72  6.20  141.434541  \n",
              "11                     8.1     2.55  4.61  7.16  150.683887  \n",
              "12                    -0.1     2.47  5.49  7.96  166.171319  \n",
              "13                     2.5     2.48  4.85  7.33  152.506283  \n",
              "...                    ...      ...   ...   ...         ...  \n",
              "121456                -0.6     0.00 -0.06 -0.06         NaN  \n",
              "121467                -0.7     0.41 -0.45 -0.04   68.584182  \n",
              "121468                 4.0     0.93  4.13  5.06  147.298373  \n",
              "121469                 0.1     0.97  3.17  4.14  142.103386  \n",
              "121470                -1.3     0.19 -0.86 -0.67    7.343668  \n",
              "\n",
              "[69571 rows x 18 columns]>"
            ]
          },
          "execution_count": 34,
          "metadata": {},
          "output_type": "execute_result"
        }
      ],
      "source": [
        "brefbat = bref.loc[bref['pitcher']!='Y']\n",
        "brefpit = bref.loc[bref['pitcher']=='Y']\n",
        "brefbat['OPS+'] = brefasdf['OPS_plus']\n",
        "brefpit['ERA+'] = brefpasdf['ERA_plus']\n",
        "brefbat.head"
      ]
    },
    {
      "cell_type": "markdown",
      "metadata": {
        "id": "9NOyKJKeO_Jf"
      },
      "source": [
        "##Joining tables"
      ]
    },
    {
      "cell_type": "code",
      "execution_count": null,
      "metadata": {
        "id": "jL2pgEuLGlO1"
      },
      "outputs": [],
      "source": [
        "batting_final = pd.merge(batting_full_fg, brefbat, left_on=['bbrefID','yearID'],right_on=['player_ID','year_ID'], how='left')\n",
        "pitching_final = pd.merge(pitching_full_fg, brefpit, left_on=['bbrefID','yearID'],right_on=['player_ID','year_ID'], how='left')"
      ]
    },
    {
      "cell_type": "code",
      "execution_count": null,
      "metadata": {
        "colab": {
          "base_uri": "https://localhost:8080/"
        },
        "id": "KXpW25iBHsUT",
        "outputId": "e50af603-566d-43ca-e9c3-b45f7ba6ccbb"
      },
      "outputs": [
        {
          "name": "stdout",
          "output_type": "stream",
          "text": [
            "Index(['playerID', 'yearID', 'stint', 'teamID', 'lgID', 'G_x', 'AB', 'R', 'H',\n",
            "       '2B', '3B', 'HR', 'RBI', 'SB', 'CS', 'BB', 'SO', 'IBB', 'HBP', 'SH',\n",
            "       'SF', 'GIDP', 'BA', 'OBP', 'SLG', 'OPS_x', 'nameFirst', 'nameLast',\n",
            "       'nameGiven', 'weight', 'height', 'retroID', 'bbrefID', 'startingPos',\n",
            "       'isAS', 'salary_x', 'franchID', 'divID', 'Ghome', 'W', 'L', 'name',\n",
            "       'park', 'attendance', 'BPF', 'PPF', 'teamIDBR', 'teamIDlahman45',\n",
            "       'teamIDretro', 'IDfg', 'Season', 'BB/K', 'OPS_y', 'ISO', 'BABIP',\n",
            "       'wOBA', 'wRC+', 'Off', 'Def', 'WAR_x', 'IDretro', 'name_common',\n",
            "       'mlb_ID', 'player_ID', 'year_ID', 'team_ID', 'stint_ID', 'lg_ID',\n",
            "       'pitcher', 'G_y', 'PA', 'salary_y', 'runs_above_avg',\n",
            "       'runs_above_avg_off', 'runs_above_avg_def', 'WAR_rep', 'WAA', 'WAR_y',\n",
            "       'OPS+'],\n",
            "      dtype='object')\n"
          ]
        }
      ],
      "source": [
        "print(batting_final.columns)"
      ]
    },
    {
      "cell_type": "markdown",
      "metadata": {
        "id": "h_hXWU7fPB1n"
      },
      "source": [
        "## Overall final touches before analysis"
      ]
    },
    {
      "cell_type": "markdown",
      "metadata": {
        "id": "otcWP6s-JnOW"
      },
      "source": [
        "dropping unnecessary columns, merging salary columns"
      ]
    },
    {
      "cell_type": "code",
      "execution_count": null,
      "metadata": {
        "id": "lCNvC3AFHwgr"
      },
      "outputs": [],
      "source": [
        "batting_final=batting_final.drop(columns=['stint','startingPos','G_y','teamIDlahman45','teamIDBR','teamIDretro','Season','mlb_ID','player_ID','year_ID','team_ID','stint_ID','lg_ID','pitcher','PA'])\n",
        "batting_final.rename(columns = {'G_x':'G', 'WAR_x':'fWAR','WAR_y':'bWAR'}, inplace = True)\n",
        "batting_final['salary_x'] = batting_final['salary_x'].fillna(0)\n",
        "batting_final['salary_y'] = batting_final['salary_y'].fillna(0)\n",
        "batting_final['isAS'] = batting_final['isAS'].fillna(0)\n",
        "batting_final['salary'] = batting_final[['salary_x', 'salary_y']].max(axis=1)\n",
        "batting_final = batting_final.drop(columns = ['salary_x', 'salary_y'])"
      ]
    },
    {
      "cell_type": "code",
      "execution_count": null,
      "metadata": {
        "colab": {
          "base_uri": "https://localhost:8080/"
        },
        "id": "drV68KfGJtio",
        "outputId": "a2ddd584-6eb3-4898-dcb5-b09426185f9d"
      },
      "outputs": [
        {
          "name": "stdout",
          "output_type": "stream",
          "text": [
            "Index(['playerID', 'yearID', 'stint', 'teamID', 'lgID', 'W', 'L', 'G_x', 'GS',\n",
            "       'CG', 'SHO', 'SV', 'IPouts', 'H', 'ER', 'HR', 'BB', 'SO', 'BAOpp',\n",
            "       'ERA', 'IBB', 'WP', 'HBP', 'BK', 'BFP', 'GF', 'R', 'SH', 'SF', 'GIDP',\n",
            "       'nameFirst', 'nameLast', 'nameGiven', 'weight', 'height', 'retroID',\n",
            "       'bbrefID', 'startingPos', 'isAS', 'salary_x', 'franchID', 'divID',\n",
            "       'Ghome', 'W_y', 'L_y', 'name', 'park', 'attendance', 'BPF', 'PPF',\n",
            "       'teamIDBR', 'teamIDlahman45', 'teamIDretro', 'IDfg', 'Season', 'Name',\n",
            "       'Team', 'WAR_x', 'K/BB', 'FIP', 'WHIP', 'IDretro', 'name_common',\n",
            "       'mlb_ID', 'player_ID', 'year_ID', 'team_ID', 'stint_ID', 'lg_ID',\n",
            "       'pitcher', 'G_y', 'PA', 'salary_y', 'runs_above_avg',\n",
            "       'runs_above_avg_off', 'runs_above_avg_def', 'WAR_rep', 'WAA', 'WAR_y',\n",
            "       'ERA+'],\n",
            "      dtype='object')\n"
          ]
        }
      ],
      "source": [
        "print(pitching_final.columns)"
      ]
    },
    {
      "cell_type": "code",
      "execution_count": null,
      "metadata": {
        "id": "qbfAAECYJxqu"
      },
      "outputs": [],
      "source": [
        "pitching_final = pitching_final.drop(columns = ['stint','startingPos','G_y','W_y','L_y','teamIDlahman45','teamIDBR','teamIDretro','Season','mlb_ID','player_ID','year_ID','team_ID','stint_ID','lg_ID','pitcher','PA'])\n",
        "pitching_final.rename(columns = {'G_x':'G', 'WAR_x':'fWAR','WAR_y':'bWAR'}, inplace = True)\n",
        "pitching_final['salary_x'] = pitching_final['salary_x'].fillna(0)\n",
        "pitching_final['salary_y'] = pitching_final['salary_y'].fillna(0)\n",
        "pitching_final['isAS'] = pitching_final['isAS'].fillna(0)\n",
        "pitching_final['salary'] = pitching_final[['salary_x', 'salary_y']].max(axis=1)\n",
        "pitching_final = pitching_final.drop(columns = ['salary_x', 'salary_y'])"
      ]
    },
    {
      "cell_type": "code",
      "execution_count": null,
      "metadata": {
        "colab": {
          "base_uri": "https://localhost:8080/"
        },
        "id": "hqRILTdIKauE",
        "outputId": "c6c8744a-730f-4f10-8bfd-c4ba91be5f47"
      },
      "outputs": [
        {
          "data": {
            "text/plain": [
              "<bound method NDFrame.head of         playerID  yearID teamID lgID   W   L   G  GS  CG  SHO  ...   IDretro  \\\n",
              "0       akerja01    1970    NYA   AL   4   2  41   0   0    0  ...       NaN   \n",
              "1      austiri01    1970    CLE   AL   2   5  31   8   1    1  ...       NaN   \n",
              "2      bahnsst01    1970    NYA   AL  14  11  36  35   6    2  ...  bahns101   \n",
              "3      billija01    1970    HOU   NL  13   9  46  24   8    2  ...  billj101   \n",
              "4      blasiwa01    1970    HOU   NL   3   3  13  13   1    0  ...       NaN   \n",
              "...          ...     ...    ...  ...  ..  ..  ..  ..  ..  ...  ...       ...   \n",
              "11666   woodal02    2022    SFN   NL   8  12  26  26   0    0  ...       NaN   \n",
              "11667  woodrbr01    2022    MIL   NL  13   4  27  27   0    0  ...       NaN   \n",
              "11668  wrighky01    2022    ATL   NL  21   5  30  30   0    0  ...  wrigk001   \n",
              "11669  yarbrry01    2022    TBA   AL   3   8  20   9   0    0  ...       NaN   \n",
              "11670  zimmebr02    2022    BAL   AL   2   5  15  13   0    0  ...       NaN   \n",
              "\n",
              "            name_common  runs_above_avg  runs_above_avg_off  \\\n",
              "0             Jack Aker            -1.8                -1.8   \n",
              "1           Rick Austin             0.2                 0.2   \n",
              "2          Stan Bahnsen            -0.5                -0.5   \n",
              "3       Jack Billingham            -3.5                -3.5   \n",
              "4       Wade Blasingame            -0.9                -0.9   \n",
              "...                 ...             ...                 ...   \n",
              "11666         Alex Wood             NaN                 NaN   \n",
              "11667  Brandon Woodruff             NaN                 NaN   \n",
              "11668       Kyle Wright             NaN                 NaN   \n",
              "11669    Ryan Yarbrough             NaN                 NaN   \n",
              "11670  Bruce Zimmermann             NaN                 NaN   \n",
              "\n",
              "       runs_above_avg_def  WAR_rep   WAA  bWAR        ERA+      salary  \n",
              "0                     0.0      0.0 -0.20 -0.20  101.850932     20000.0  \n",
              "1                     0.0      0.0  0.02  0.02  102.886667         0.0  \n",
              "2                     0.0      0.0 -0.08 -0.08   86.664706         0.0  \n",
              "3                     0.0      0.0 -0.35 -0.35  155.140000         0.0  \n",
              "4                     0.0      0.0 -0.08 -0.08  224.300000         0.0  \n",
              "...                   ...      ...   ...   ...         ...         ...  \n",
              "11666                 NaN      NaN   NaN   NaN         NaN  12500000.0  \n",
              "11667                 NaN      NaN   NaN   NaN         NaN   6800000.0  \n",
              "11668                 NaN      NaN   NaN   NaN         NaN         0.0  \n",
              "11669                 NaN      NaN   NaN   NaN         NaN   3850000.0  \n",
              "11670                 NaN      NaN   NaN   NaN         NaN         0.0  \n",
              "\n",
              "[11671 rows x 62 columns]>"
            ]
          },
          "execution_count": 40,
          "metadata": {},
          "output_type": "execute_result"
        }
      ],
      "source": [
        "pitching_final.head"
      ]
    },
    {
      "cell_type": "code",
      "execution_count": null,
      "metadata": {
        "id": "q46uCaQKw8sN"
      },
      "outputs": [],
      "source": [
        "bat = batting_final.drop(columns=['playerID','teamID','lgID','G','2B','3B','CS','SH','SF','IBB','HBP','nameFirst','nameLast','nameGiven','retroID','bbrefID','franchID','divID','name','park','BPF','PPF','IDfg','BB/K','wOBA','IDretro',\n",
        "                                  'runs_above_avg','runs_above_avg_off','runs_above_avg_def','WAR_rep','WAA'])\n",
        "bat['BBK'] = bat['BB']/bat['SO']\n",
        "bat['teamWP'] = bat['W']/(bat['W']+bat['L'])\n",
        "bat['avgatd'] = bat['attendance']/bat['Ghome']\n",
        "bat = bat.drop(columns=['W','L','attendance','Ghome'])"
      ]
    },
    {
      "cell_type": "code",
      "execution_count": null,
      "metadata": {
        "colab": {
          "base_uri": "https://localhost:8080/"
        },
        "id": "dyDluXTULm26",
        "outputId": "0bcae495-6d77-43c2-f681-5dc208519c2f"
      },
      "outputs": [
        {
          "name": "stdout",
          "output_type": "stream",
          "text": [
            "<class 'pandas.core.frame.DataFrame'>\n",
            "Int64Index: 16320 entries, 0 to 16319\n",
            "Data columns (total 63 columns):\n",
            " #   Column              Non-Null Count  Dtype  \n",
            "---  ------              --------------  -----  \n",
            " 0   playerID            16320 non-null  object \n",
            " 1   yearID              16320 non-null  int64  \n",
            " 2   teamID              16320 non-null  object \n",
            " 3   lgID                16320 non-null  object \n",
            " 4   G                   16320 non-null  int64  \n",
            " 5   AB                  16320 non-null  int64  \n",
            " 6   R                   16320 non-null  int64  \n",
            " 7   H                   16320 non-null  int64  \n",
            " 8   2B                  16320 non-null  int64  \n",
            " 9   3B                  16320 non-null  int64  \n",
            " 10  HR                  16320 non-null  int64  \n",
            " 11  RBI                 16320 non-null  float64\n",
            " 12  SB                  16320 non-null  float64\n",
            " 13  CS                  16320 non-null  float64\n",
            " 14  BB                  16320 non-null  int64  \n",
            " 15  SO                  16320 non-null  float64\n",
            " 16  IBB                 16320 non-null  float64\n",
            " 17  HBP                 16320 non-null  float64\n",
            " 18  SH                  16320 non-null  float64\n",
            " 19  SF                  16320 non-null  float64\n",
            " 20  GIDP                16320 non-null  float64\n",
            " 21  BA                  16320 non-null  float64\n",
            " 22  OBP                 16320 non-null  float64\n",
            " 23  SLG                 16320 non-null  float64\n",
            " 24  OPS_x               16320 non-null  float64\n",
            " 25  nameFirst           16320 non-null  object \n",
            " 26  nameLast            16320 non-null  object \n",
            " 27  nameGiven           16320 non-null  object \n",
            " 28  weight              16320 non-null  float64\n",
            " 29  height              16320 non-null  float64\n",
            " 30  retroID             16320 non-null  object \n",
            " 31  bbrefID             16320 non-null  object \n",
            " 32  isAS                16320 non-null  float64\n",
            " 33  franchID            16320 non-null  object \n",
            " 34  divID               16320 non-null  object \n",
            " 35  Ghome               16320 non-null  float64\n",
            " 36  W                   16320 non-null  int64  \n",
            " 37  L                   16320 non-null  int64  \n",
            " 38  name                16320 non-null  object \n",
            " 39  park                16320 non-null  object \n",
            " 40  attendance          16320 non-null  float64\n",
            " 41  BPF                 16320 non-null  int64  \n",
            " 42  PPF                 16320 non-null  int64  \n",
            " 43  IDfg                7012 non-null   float64\n",
            " 44  BB/K                7012 non-null   float64\n",
            " 45  OPS_y               7012 non-null   float64\n",
            " 46  ISO                 7012 non-null   float64\n",
            " 47  BABIP               7012 non-null   float64\n",
            " 48  wOBA                7012 non-null   float64\n",
            " 49  wRC+                7012 non-null   float64\n",
            " 50  Off                 7012 non-null   float64\n",
            " 51  Def                 7012 non-null   float64\n",
            " 52  fWAR                7012 non-null   float64\n",
            " 53  IDretro             7012 non-null   object \n",
            " 54  name_common         16320 non-null  object \n",
            " 55  runs_above_avg      16320 non-null  float64\n",
            " 56  runs_above_avg_off  16320 non-null  float64\n",
            " 57  runs_above_avg_def  16320 non-null  float64\n",
            " 58  WAR_rep             16320 non-null  float64\n",
            " 59  WAA                 16320 non-null  float64\n",
            " 60  bWAR                16320 non-null  float64\n",
            " 61  OPS+                16320 non-null  float64\n",
            " 62  salary              16320 non-null  float64\n",
            "dtypes: float64(36), int64(13), object(14)\n",
            "memory usage: 8.0+ MB\n"
          ]
        }
      ],
      "source": [
        "batting_final.info()"
      ]
    },
    {
      "cell_type": "code",
      "execution_count": null,
      "metadata": {
        "id": "ogmdtSH1ymTy"
      },
      "outputs": [],
      "source": [
        "pit = pitching_final.drop(columns=['playerID','lgID','teamID','IBB','BFP','GF','SH','SF','K/BB','nameFirst','nameLast','nameGiven','retroID','bbrefID','franchID','divID','name','park','BPF','PPF','IDfg','K/BB','IDretro','name_common',\n",
        "                                   'runs_above_avg','runs_above_avg_off','runs_above_avg_def','WAR_rep','WAA','WHIP'])\n",
        "pit['CGSHO'] = pit['CG']+pit['SHO']\n",
        "pit['WPBK'] = pit['WP']+pit['BK']\n",
        "pit['KBB'] = pit['SO']/pit['BB']\n",
        "pit['avgatd'] = pit['attendance']/pit['Ghome']\n",
        "pit['WHIP'] = (pit['H']+pit['BB'])*3/pit['IPouts']\n",
        "pit = pit.drop(columns = ['WP','BK','CG','SHO','attendance','Ghome'])"
      ]
    },
    {
      "cell_type": "code",
      "execution_count": null,
      "metadata": {
        "colab": {
          "base_uri": "https://localhost:8080/"
        },
        "id": "OnOkBf-yLvVI",
        "outputId": "de43e8c8-d5f7-43ba-f021-763097586f7c"
      },
      "outputs": [
        {
          "name": "stdout",
          "output_type": "stream",
          "text": [
            "<class 'pandas.core.frame.DataFrame'>\n",
            "Int64Index: 11671 entries, 0 to 11670\n",
            "Data columns (total 62 columns):\n",
            " #   Column              Non-Null Count  Dtype  \n",
            "---  ------              --------------  -----  \n",
            " 0   playerID            11671 non-null  object \n",
            " 1   yearID              11671 non-null  int64  \n",
            " 2   teamID              11671 non-null  object \n",
            " 3   lgID                11671 non-null  object \n",
            " 4   W                   11671 non-null  int64  \n",
            " 5   L                   11671 non-null  int64  \n",
            " 6   G                   11671 non-null  int64  \n",
            " 7   GS                  11671 non-null  int64  \n",
            " 8   CG                  11671 non-null  int64  \n",
            " 9   SHO                 11671 non-null  int64  \n",
            " 10  SV                  11671 non-null  int64  \n",
            " 11  IPouts              11671 non-null  int64  \n",
            " 12  H                   11671 non-null  int64  \n",
            " 13  ER                  11671 non-null  int64  \n",
            " 14  HR                  11671 non-null  int64  \n",
            " 15  BB                  11671 non-null  int64  \n",
            " 16  SO                  11671 non-null  int64  \n",
            " 17  BAOpp               11671 non-null  float64\n",
            " 18  ERA                 11671 non-null  float64\n",
            " 19  IBB                 11671 non-null  float64\n",
            " 20  WP                  11671 non-null  int64  \n",
            " 21  HBP                 11671 non-null  float64\n",
            " 22  BK                  11671 non-null  int64  \n",
            " 23  BFP                 11671 non-null  float64\n",
            " 24  GF                  11671 non-null  int64  \n",
            " 25  R                   11671 non-null  int64  \n",
            " 26  SH                  11671 non-null  float64\n",
            " 27  SF                  11671 non-null  float64\n",
            " 28  GIDP                11116 non-null  float64\n",
            " 29  nameFirst           11671 non-null  object \n",
            " 30  nameLast            11671 non-null  object \n",
            " 31  nameGiven           11671 non-null  object \n",
            " 32  weight              11671 non-null  float64\n",
            " 33  height              11671 non-null  float64\n",
            " 34  retroID             11671 non-null  object \n",
            " 35  bbrefID             11671 non-null  object \n",
            " 36  isAS                11671 non-null  float64\n",
            " 37  franchID            11671 non-null  object \n",
            " 38  divID               11671 non-null  object \n",
            " 39  Ghome               11671 non-null  float64\n",
            " 40  name                11671 non-null  object \n",
            " 41  park                11671 non-null  object \n",
            " 42  attendance          11671 non-null  float64\n",
            " 43  BPF                 11671 non-null  int64  \n",
            " 44  PPF                 11671 non-null  int64  \n",
            " 45  IDfg                4040 non-null   float64\n",
            " 46  Name                4040 non-null   object \n",
            " 47  Team                4040 non-null   object \n",
            " 48  fWAR                4040 non-null   float64\n",
            " 49  K/BB                4040 non-null   float64\n",
            " 50  FIP                 4040 non-null   float64\n",
            " 51  WHIP                4040 non-null   float64\n",
            " 52  IDretro             4040 non-null   object \n",
            " 53  name_common         11668 non-null  object \n",
            " 54  runs_above_avg      11452 non-null  float64\n",
            " 55  runs_above_avg_off  11452 non-null  float64\n",
            " 56  runs_above_avg_def  11452 non-null  float64\n",
            " 57  WAR_rep             9119 non-null   float64\n",
            " 58  WAA                 9119 non-null   float64\n",
            " 59  bWAR                9119 non-null   float64\n",
            " 60  ERA+                4830 non-null   float64\n",
            " 61  salary              11671 non-null  float64\n",
            "dtypes: float64(26), int64(20), object(16)\n",
            "memory usage: 5.6+ MB\n"
          ]
        }
      ],
      "source": [
        "pitching_final.info()"
      ]
    },
    {
      "cell_type": "markdown",
      "metadata": {
        "id": "_4jaM15pOONp"
      },
      "source": [
        "should i check dupicates? what is the change in the no of rows about? and why so many nan in fangraphs"
      ]
    },
    {
      "cell_type": "markdown",
      "metadata": {
        "id": "tOCBUZyOPO7T"
      },
      "source": [
        "##Final prep before analysis - minimizing null vals"
      ]
    },
    {
      "cell_type": "code",
      "execution_count": null,
      "metadata": {
        "colab": {
          "base_uri": "https://localhost:8080/"
        },
        "id": "zgTB6M-z4yd1",
        "outputId": "c9e8f05c-8c32-423b-f7f2-ee27193c395b"
      },
      "outputs": [
        {
          "name": "stdout",
          "output_type": "stream",
          "text": [
            "Requirement already satisfied: scikit-learn in /usr/local/lib/python3.10/dist-packages (1.2.2)\n",
            "Requirement already satisfied: numpy>=1.17.3 in /usr/local/lib/python3.10/dist-packages (from scikit-learn) (1.22.4)\n",
            "Requirement already satisfied: scipy>=1.3.2 in /usr/local/lib/python3.10/dist-packages (from scikit-learn) (1.10.1)\n",
            "Requirement already satisfied: joblib>=1.1.1 in /usr/local/lib/python3.10/dist-packages (from scikit-learn) (1.3.1)\n",
            "Requirement already satisfied: threadpoolctl>=2.0.0 in /usr/local/lib/python3.10/dist-packages (from scikit-learn) (3.2.0)\n"
          ]
        }
      ],
      "source": [
        "!pip install scikit-learn"
      ]
    },
    {
      "cell_type": "markdown",
      "metadata": {
        "id": "tbzSxBYwC1Ta"
      },
      "source": [
        "i need to normalize the data"
      ]
    },
    {
      "cell_type": "markdown",
      "metadata": {
        "id": "2vXsbZVyUOmb"
      },
      "source": [
        "ballot has avg hr rbi ops, will limit classic stats to as such\n",
        "* AB - does playing a lot equate to getting an AS?\n",
        "* SB - does being a speedster equate to getting an AS versus being a power player?\n",
        "* GIDP - does this mean that the hitter is bad or just that they have a lot of hits in general?\n",
        "* weight and height - does being a big boi increase your chances?\n",
        "* ISO - see SB\n"
      ]
    },
    {
      "cell_type": "code",
      "execution_count": null,
      "metadata": {
        "id": "Ws9N0o27HjaK"
      },
      "outputs": [],
      "source": [
        "import numpy as np\n",
        "\n",
        "bat.rename(columns = {'OPS_x':'OPS'}, inplace = True)\n",
        "bat['WAR'] = np.where(bat['fWAR'].isnull(),bat['bWAR'],bat['bWAR']*.8+bat['fWAR']*.2)\n",
        "bat = bat.drop(columns=['R','H','BB','SO','OPS_y','ISO','name_common','fWAR','bWAR'])\n",
        "bat['ISO'] = bat['SLG']-bat['BA']"
      ]
    },
    {
      "cell_type": "markdown",
      "metadata": {
        "id": "sUL78W3238Q4"
      },
      "source": [
        "https://www.fangraphs.com/guts.aspx?type=cn\n",
        "https://library.fangraphs.com/pitching/fip/"
      ]
    },
    {
      "cell_type": "code",
      "execution_count": null,
      "metadata": {
        "colab": {
          "base_uri": "https://localhost:8080/"
        },
        "id": "I8ZGtpf2xlyg",
        "outputId": "6b1f75c1-313d-4541-958a-ae41797568b4"
      },
      "outputs": [
        {
          "name": "stderr",
          "output_type": "stream",
          "text": [
            "<ipython-input-47-f18957687d42>:61: SettingWithCopyWarning: \n",
            "A value is trying to be set on a copy of a slice from a DataFrame\n",
            "\n",
            "See the caveats in the documentation: https://pandas.pydata.org/pandas-docs/stable/user_guide/indexing.html#returning-a-view-versus-a-copy\n",
            "  pit['cFIP'].loc[(pit['yearID'] == x)] = cFIP[x]\n"
          ]
        }
      ],
      "source": [
        "bat.rename(columns = {'OPS_x':'OPS'}, inplace = True)\n",
        "pit['WAR'] = np.where(pit['fWAR'].isnull(),pit['bWAR'],pit['bWAR']*.8+pit['fWAR']*.2)\n",
        "\n",
        "cFIP = {1970: 2.638,\n",
        "        1971: 2.451,\n",
        "        1972: 2.399,\n",
        "        1973: 2.565,\n",
        "        1974: 2.578,\n",
        "        1975: 2.587,\n",
        "        1976: 2.633,\n",
        "        1977: 2.738,\n",
        "        1978: 2.585,\n",
        "        1979: 2.732,\n",
        "        1980: 2.752,\n",
        "        1981: 2.600,\n",
        "        1982: 2.717,\n",
        "        1983: 2.755,\n",
        "        1984: 2.768,\n",
        "        1985: 2.684,\n",
        "        1986: 2.771,\n",
        "        1987: 2.871,\n",
        "        1988: 2.769,\n",
        "        1989: 2.763,\n",
        "        1990: 2.808,\n",
        "        1991: 2.856,\n",
        "        1992: 2.783,\n",
        "        1993: 2.988,\n",
        "        1994: 3.131,\n",
        "        1995: 3.103,\n",
        "        1996: 3.172,\n",
        "        1997: 3.109,\n",
        "        1998: 3.139,\n",
        "        1999: 3.134,\n",
        "        2000: 3.134,\n",
        "        2001: 3.049,\n",
        "        2002: 2.962,\n",
        "        2003: 3.032,\n",
        "        2004: 3.049,\n",
        "        2005: 3.020,\n",
        "        2006: 3.147,\n",
        "        2007: 3.240,\n",
        "        2008: 3.132,\n",
        "        2009: 3.097,\n",
        "        2010: 3.078,\n",
        "        2011: 3.025,\n",
        "        2012: 3.094,\n",
        "        2013: 3.048,\n",
        "        2014: 3.132,\n",
        "        2015: 3.134,\n",
        "        2016: 3.147,\n",
        "        2017: 3.158,\n",
        "        2018: 3.160,\n",
        "        2019: 3.214,\n",
        "        2020: 3.191,\n",
        "        2021: 3.170,\n",
        "        2022: 3.112}\n",
        "\n",
        "pit['cFIP'] = 0\n",
        "\n",
        "for x in cFIP.keys():\n",
        "  pit['cFIP'].loc[(pit['yearID'] == x)] = cFIP[x]\n",
        "\n",
        "pit['FIP'] = np.where(pit['FIP'].isnull(),\n",
        "                      (13*pit['HR']+3*(pit['BB']+pit['HBP'])-2*pit['SO'])*3/pit['IPouts'] + pit['cFIP'],\n",
        "                      pit['FIP'])\n",
        "pit = pit.drop(columns=['L','H','ER','BB','SO','R','Name','Team','fWAR','bWAR'])\n"
      ]
    },
    {
      "cell_type": "code",
      "execution_count": null,
      "metadata": {
        "id": "yQsdznRG2ws-"
      },
      "outputs": [],
      "source": [
        "pit['WAR'].fillna((pit['WAR'].mean()), inplace=True)\n",
        "pit['GIDP'].fillna((pit['GIDP'].mean()), inplace=True)"
      ]
    },
    {
      "cell_type": "code",
      "execution_count": null,
      "metadata": {
        "colab": {
          "base_uri": "https://localhost:8080/"
        },
        "id": "1q9cQDdVE4Q4",
        "outputId": "ce396ca9-db6d-432e-e4bc-ce3c59694cbe"
      },
      "outputs": [
        {
          "name": "stdout",
          "output_type": "stream",
          "text": [
            "<class 'pandas.core.frame.DataFrame'>\n",
            "Int64Index: 16320 entries, 0 to 16319\n",
            "Data columns (total 24 columns):\n",
            " #   Column  Non-Null Count  Dtype  \n",
            "---  ------  --------------  -----  \n",
            " 0   yearID  16320 non-null  int64  \n",
            " 1   AB      16320 non-null  int64  \n",
            " 2   HR      16320 non-null  int64  \n",
            " 3   RBI     16320 non-null  float64\n",
            " 4   SB      16320 non-null  float64\n",
            " 5   GIDP    16320 non-null  float64\n",
            " 6   BA      16320 non-null  float64\n",
            " 7   OBP     16320 non-null  float64\n",
            " 8   SLG     16320 non-null  float64\n",
            " 9   OPS     16320 non-null  float64\n",
            " 10  weight  16320 non-null  float64\n",
            " 11  height  16320 non-null  float64\n",
            " 12  isAS    16320 non-null  float64\n",
            " 13  BABIP   7012 non-null   float64\n",
            " 14  wRC+    7012 non-null   float64\n",
            " 15  Off     7012 non-null   float64\n",
            " 16  Def     7012 non-null   float64\n",
            " 17  OPS+    16320 non-null  float64\n",
            " 18  salary  16320 non-null  float64\n",
            " 19  BBK     16320 non-null  float64\n",
            " 20  teamWP  16320 non-null  float64\n",
            " 21  avgatd  16320 non-null  float64\n",
            " 22  WAR     16320 non-null  float64\n",
            " 23  ISO     16320 non-null  float64\n",
            "dtypes: float64(21), int64(3)\n",
            "memory usage: 3.1 MB\n"
          ]
        }
      ],
      "source": [
        "bat.info()"
      ]
    },
    {
      "cell_type": "code",
      "execution_count": null,
      "metadata": {
        "colab": {
          "base_uri": "https://localhost:8080/"
        },
        "id": "DuB_TPcGuYvh",
        "outputId": "3957be80-e15d-49d1-9960-70827d0660b9"
      },
      "outputs": [
        {
          "data": {
            "text/plain": [
              "count    11671.000000\n",
              "mean         3.996097\n",
              "std          0.834898\n",
              "min          0.780170\n",
              "25%          3.435641\n",
              "50%          3.960000\n",
              "75%          4.521166\n",
              "max          7.712081\n",
              "Name: FIP, dtype: float64"
            ]
          },
          "execution_count": 50,
          "metadata": {},
          "output_type": "execute_result"
        }
      ],
      "source": [
        "pit['FIP'].describe()"
      ]
    },
    {
      "cell_type": "code",
      "execution_count": null,
      "metadata": {
        "colab": {
          "base_uri": "https://localhost:8080/"
        },
        "id": "INnhksGDOq19",
        "outputId": "7f309380-f924-4e2b-fc00-672cca2a75d4"
      },
      "outputs": [
        {
          "name": "stdout",
          "output_type": "stream",
          "text": [
            "<class 'pandas.core.frame.DataFrame'>\n",
            "Int64Index: 11671 entries, 0 to 11670\n",
            "Data columns (total 24 columns):\n",
            " #   Column  Non-Null Count  Dtype  \n",
            "---  ------  --------------  -----  \n",
            " 0   yearID  11671 non-null  int64  \n",
            " 1   W       11671 non-null  int64  \n",
            " 2   G       11671 non-null  int64  \n",
            " 3   GS      11671 non-null  int64  \n",
            " 4   SV      11671 non-null  int64  \n",
            " 5   IPouts  11671 non-null  int64  \n",
            " 6   HR      11671 non-null  int64  \n",
            " 7   BAOpp   11671 non-null  float64\n",
            " 8   ERA     11671 non-null  float64\n",
            " 9   HBP     11671 non-null  float64\n",
            " 10  GIDP    11671 non-null  float64\n",
            " 11  weight  11671 non-null  float64\n",
            " 12  height  11671 non-null  float64\n",
            " 13  isAS    11671 non-null  float64\n",
            " 14  FIP     11671 non-null  float64\n",
            " 15  ERA+    4830 non-null   float64\n",
            " 16  salary  11671 non-null  float64\n",
            " 17  CGSHO   11671 non-null  int64  \n",
            " 18  WPBK    11671 non-null  int64  \n",
            " 19  KBB     11671 non-null  float64\n",
            " 20  avgatd  11671 non-null  float64\n",
            " 21  WHIP    11671 non-null  float64\n",
            " 22  WAR     11671 non-null  float64\n",
            " 23  cFIP    11671 non-null  float64\n",
            "dtypes: float64(15), int64(9)\n",
            "memory usage: 2.2 MB\n"
          ]
        }
      ],
      "source": [
        "pit.info()"
      ]
    },
    {
      "cell_type": "markdown",
      "metadata": {
        "id": "HJ-5BGLvSkzC"
      },
      "source": [
        "two approaches\n",
        "1. fill missing vals w stuff like bigger of the two WARs\n",
        "2. only use rows with all data"
      ]
    },
    {
      "cell_type": "code",
      "execution_count": null,
      "metadata": {
        "colab": {
          "base_uri": "https://localhost:8080/"
        },
        "id": "UvEQabdZLYvS",
        "outputId": "8e4350cb-4c5f-444c-d5f5-fa85c74f220a"
      },
      "outputs": [
        {
          "data": {
            "text/plain": [
              "Index(['yearID', 'AB', 'HR', 'RBI', 'SB', 'GIDP', 'BA', 'OBP', 'SLG', 'OPS',\n",
              "       'weight', 'height', 'isAS', 'BABIP', 'wRC+', 'Off', 'Def', 'OPS+',\n",
              "       'salary', 'BBK', 'teamWP', 'avgatd', 'WAR', 'ISO'],\n",
              "      dtype='object')"
            ]
          },
          "execution_count": 52,
          "metadata": {},
          "output_type": "execute_result"
        }
      ],
      "source": [
        "bat.columns"
      ]
    },
    {
      "cell_type": "code",
      "execution_count": null,
      "metadata": {
        "id": "piBKGLSRA1gW"
      },
      "outputs": [],
      "source": [
        "#X_bat = bat.drop(columns=['yearID','isAS','name_common'])\n",
        "X_bat = bat.drop(columns = ['yearID','isAS','BABIP','wRC+','Off','Def','OPS+'])\n",
        "#X_HOPS = bat[['H','bWAR','weight','avgatd']]\n",
        "Y_bat = bat['isAS']"
      ]
    },
    {
      "cell_type": "code",
      "execution_count": null,
      "metadata": {
        "colab": {
          "base_uri": "https://localhost:8080/"
        },
        "id": "Cm0O29wyPFgB",
        "outputId": "267aede0-75e2-43d4-e704-f0dd902b7384"
      },
      "outputs": [
        {
          "data": {
            "text/plain": [
              "(16320, 17)"
            ]
          },
          "execution_count": 54,
          "metadata": {},
          "output_type": "execute_result"
        }
      ],
      "source": [
        "X_bat.shape"
      ]
    },
    {
      "cell_type": "code",
      "execution_count": null,
      "metadata": {
        "colab": {
          "base_uri": "https://localhost:8080/"
        },
        "id": "4n8b3HFLBSdW",
        "outputId": "9503c38f-3333-473c-efa4-7fe76ce77817"
      },
      "outputs": [
        {
          "data": {
            "text/plain": [
              "Index(['yearID', 'W', 'G', 'GS', 'SV', 'IPouts', 'HR', 'BAOpp', 'ERA', 'HBP',\n",
              "       'GIDP', 'weight', 'height', 'isAS', 'FIP', 'ERA+', 'salary', 'CGSHO',\n",
              "       'WPBK', 'KBB', 'avgatd', 'WHIP', 'WAR', 'cFIP'],\n",
              "      dtype='object')"
            ]
          },
          "execution_count": 55,
          "metadata": {},
          "output_type": "execute_result"
        }
      ],
      "source": [
        "pit.columns"
      ]
    },
    {
      "cell_type": "code",
      "execution_count": null,
      "metadata": {
        "id": "YVOt1ELhxR4C"
      },
      "outputs": [],
      "source": [
        "X_pit = pit.drop(columns=['yearID','isAS','ERA+','cFIP'])\n",
        "Y_pit = pit['isAS']"
      ]
    },
    {
      "cell_type": "markdown",
      "metadata": {
        "id": "BEC-U5Z8CWkJ"
      },
      "source": [
        "https://www.datacamp.com/tutorial/understanding-logistic-regression-python"
      ]
    },
    {
      "cell_type": "markdown",
      "metadata": {
        "id": "F3D0vMzOC-ia"
      },
      "source": [
        "https://stackoverflow.com/questions/65110798/feature-importance-in-a-binary-classification-and-extracting-shap-values-for-one"
      ]
    },
    {
      "cell_type": "markdown",
      "metadata": {
        "id": "41uzTPI2DADS"
      },
      "source": [
        "https://maelfabien.github.io/machinelearning/Explorium_3/#"
      ]
    },
    {
      "cell_type": "markdown",
      "metadata": {
        "id": "2qlcVAxpPgRC"
      },
      "source": [
        "##Comparing model - setup"
      ]
    },
    {
      "cell_type": "markdown",
      "metadata": {
        "id": "mvHf5BkBP8tG"
      },
      "source": [
        "log reg, log reg w/ pca, log reg w/ lasso and rfe, random forest, lgbmboost"
      ]
    },
    {
      "cell_type": "markdown",
      "metadata": {
        "id": "WY6hpynEbhQX"
      },
      "source": [
        "https://www.analyticsvidhya.com/blog/2021/06/tune-hyperparameters-with-gridsearchcv/\n",
        "\n",
        "https://velog.io/@hyunicecream/GridSearchCV%EB%9E%80-%EC%96%B4%EB%96%BB%EA%B2%8C-%EC%82%AC%EC%9A%A9%ED%95%A0%EA%B9%8C\n",
        "\n",
        "https://machinelearningmastery.com/hyperparameters-for-classification-machine-learning-algorithms/\n",
        "\n",
        "https://www.kaggle.com/code/arindambanerjee/grid-search-simplified\n",
        "\n",
        "https://stackoverflow.com/questions/49160206/does-gridsearchcv-perform-cross-validation/49165571#49165571\n",
        "\n",
        "train test split -> gridsearch -> fit -> crossvalscore?\n",
        "\n",
        "https://techblog-history-younghunjo1.tistory.com/100\n",
        "\n",
        "so i think\n",
        "train test split -> gridsearch -> fit on train -> best estimator -> accuracy_score or roc_auc_score\n",
        "\n",
        "https://stackoverflow.com/questions/49061575/why-when-i-use-gridsearchcv-with-roc-auc-scoring-the-score-is-different-for-gri\n",
        "\n",
        "https://m.blog.naver.com/demian7607/221948664279\n",
        "\n",
        "https://coderzcolumn.com/tutorials/machine-learning/scikit-optimize-guide-to-hyperparameters-optimization#3"
      ]
    },
    {
      "cell_type": "code",
      "execution_count": null,
      "metadata": {
        "colab": {
          "base_uri": "https://localhost:8080/"
        },
        "id": "CxxgXH_w57ya",
        "outputId": "d5a355d0-0595-482d-a6bb-e8cdba83b860"
      },
      "outputs": [
        {
          "name": "stdout",
          "output_type": "stream",
          "text": [
            "Collecting scikit-optimize\n",
            "  Downloading scikit_optimize-0.9.0-py2.py3-none-any.whl (100 kB)\n",
            "\u001b[?25l     \u001b[90m━━━━━━━━━━━━━━━━━━━━━━━━━━━━━━━━━━━━━━━━\u001b[0m \u001b[32m0.0/100.3 kB\u001b[0m \u001b[31m?\u001b[0m eta \u001b[36m-:--:--\u001b[0m\r\u001b[2K     \u001b[91m━━━━━━━━━━━━━━━━━━━━━━━━━━━━━━━━━━━━\u001b[0m\u001b[91m╸\u001b[0m\u001b[90m━━━\u001b[0m \u001b[32m92.2/100.3 kB\u001b[0m \u001b[31m2.8 MB/s\u001b[0m eta \u001b[36m0:00:01\u001b[0m\r\u001b[2K     \u001b[90m━━━━━━━━━━━━━━━━━━━━━━━━━━━━━━━━━━━━━━━\u001b[0m \u001b[32m100.3/100.3 kB\u001b[0m \u001b[31m2.4 MB/s\u001b[0m eta \u001b[36m0:00:00\u001b[0m\n",
            "\u001b[?25hRequirement already satisfied: joblib>=0.11 in /usr/local/lib/python3.10/dist-packages (from scikit-optimize) (1.3.1)\n",
            "Collecting pyaml>=16.9 (from scikit-optimize)\n",
            "  Downloading pyaml-23.7.0-py3-none-any.whl (17 kB)\n",
            "Requirement already satisfied: numpy>=1.13.3 in /usr/local/lib/python3.10/dist-packages (from scikit-optimize) (1.22.4)\n",
            "Requirement already satisfied: scipy>=0.19.1 in /usr/local/lib/python3.10/dist-packages (from scikit-optimize) (1.10.1)\n",
            "Requirement already satisfied: scikit-learn>=0.20.0 in /usr/local/lib/python3.10/dist-packages (from scikit-optimize) (1.2.2)\n",
            "Requirement already satisfied: PyYAML in /usr/local/lib/python3.10/dist-packages (from pyaml>=16.9->scikit-optimize) (6.0.1)\n",
            "Requirement already satisfied: threadpoolctl>=2.0.0 in /usr/local/lib/python3.10/dist-packages (from scikit-learn>=0.20.0->scikit-optimize) (3.2.0)\n",
            "Installing collected packages: pyaml, scikit-optimize\n",
            "Successfully installed pyaml-23.7.0 scikit-optimize-0.9.0\n"
          ]
        }
      ],
      "source": [
        "!pip install scikit-optimize\n",
        "from skopt.utils import use_named_args\n",
        "from skopt import space\n",
        "from sklearn.linear_model import LogisticRegression\n",
        "from sklearn.feature_selection import RFE\n",
        "from skopt import gp_minimize\n",
        "from sklearn.model_selection import cross_val_score\n",
        "from sklearn.metrics import roc_auc_score\n",
        "from sklearn.ensemble import RandomForestClassifier\n",
        "from lightgbm import LGBMClassifier\n",
        "from xgboost import XGBClassifier\n",
        "from sklearn.svm import LinearSVC"
      ]
    },
    {
      "cell_type": "code",
      "execution_count": null,
      "metadata": {
        "id": "cW4qZi_tAtoL"
      },
      "outputs": [],
      "source": [
        "def logistic(x_tr, y_tr, x_tt, y_tt):\n",
        "\n",
        "  logreg = LogisticRegression()\n",
        "\n",
        "  search_space = [\n",
        "                 space.Real(0.01, 100, name='C'),\n",
        "                 space.Integer(20, 500, name='max_iter')\n",
        "               ]\n",
        "  @use_named_args(search_space)\n",
        "  #from skopt.utils import use_named_args\n",
        "  def obj(**params):\n",
        "    logreg.set_params(**params)\n",
        "    result = cross_val_score(logreg, x_tr, y_tr, cv=10, n_jobs=-1, scoring='roc_auc').mean()\n",
        "    return 1 - result\n",
        "\n",
        "  res_gp = gp_minimize(obj, search_space, n_calls=20, n_initial_points = 10, random_state=0)\n",
        "\n",
        "  params_fin = res_gp.x\n",
        "\n",
        "  best_params = dict(list(zip([\"C\", \"max_iter\"], params_fin)))\n",
        "\n",
        "  logreg_new = LogisticRegression(**best_params)\n",
        "  logreg_new.fit(x_tr, y_tr)\n",
        "\n",
        "  hyp = best_params\n",
        "  auc = roc_auc_score(logreg_new.predict(x_tt), y_tt)\n",
        "  acc = logreg_new.score(x_tt, y_tt)\n",
        "\n",
        "  return hyp, auc, acc\n"
      ]
    },
    {
      "cell_type": "code",
      "execution_count": null,
      "metadata": {
        "id": "m4OPiTb7JLbI"
      },
      "outputs": [],
      "source": [
        "def rfe(x_tr, y_tr, x_tt, y_tt):\n",
        "\n",
        "  log_clf = LogisticRegression(\n",
        "    penalty='l1',\n",
        "    solver='saga',  # or 'liblinear'\n",
        "    C=0.1)\n",
        "\n",
        "  selector = RFE(log_clf)\n",
        "\n",
        "  search_space = [\n",
        "                 space.Real(0.01, 100, name='C'),\n",
        "                 space.Integer(20, 800, name='max_iter'),\n",
        "                 space.Categorical(['l1'], name=\"penalty\"),\n",
        "                 space.Categorical([\"saga\", \"liblinear\"], name=\"solver\")\n",
        "               ]\n",
        "\n",
        "  @use_named_args(search_space)\n",
        "\n",
        "  def obj(**params):\n",
        "    log_clf.set_params(**params)\n",
        "    result = cross_val_score(log_clf, x_tr, y_tr, cv=10, n_jobs=-1, scoring='roc_auc').mean()\n",
        "    return 1 - result\n",
        "\n",
        "  res_gp = gp_minimize(obj, search_space, n_calls=20, n_initial_points = 10, random_state=0)\n",
        "\n",
        "  params_fin = res_gp.x\n",
        "\n",
        "  best_params = dict(list(zip([\"C\", \"max_iter\", \"penalty\", \"solver\"], params_fin)))\n",
        "\n",
        "  logclf_new = RFE(LogisticRegression(**best_params))\n",
        "  logclf_new.fit(x_tr, y_tr)\n",
        "\n",
        "  hyp = best_params\n",
        "  auc = roc_auc_score(logclf_new.predict(x_tt), y_tt)\n",
        "  acc = logclf_new.score(x_tt, y_tt)\n",
        "\n",
        "  return hyp, auc, acc"
      ]
    },
    {
      "cell_type": "code",
      "execution_count": null,
      "metadata": {
        "id": "tFa79Cs4MyjV"
      },
      "outputs": [],
      "source": [
        "def rf(x_tr, y_tr, x_tt, y_tt):\n",
        "\n",
        "  rf = RandomForestClassifier()\n",
        "\n",
        "  search_space = [\n",
        "                 space.Integer(20, 1200, name='n_estimators'),\n",
        "                 space.Integer(3, 120, name='max_depth'),\n",
        "                 space.Categorical(['sqrt','log2', None], name=\"max_features\"),\n",
        "                 space.Integer(3, 20, name=\"max_leaf_nodes\")\n",
        "               ]\n",
        "\n",
        "  @use_named_args(search_space)\n",
        "\n",
        "  def obj(**params):\n",
        "    rf.set_params(**params)\n",
        "    result = cross_val_score(rf, x_tr, y_tr, cv=10, n_jobs=-1, scoring='roc_auc').mean()\n",
        "    return 1 - result\n",
        "\n",
        "  res_gp = gp_minimize(obj, search_space, n_calls=20, n_initial_points = 10, random_state=0)\n",
        "\n",
        "  params_fin = res_gp.x\n",
        "\n",
        "  best_params = dict(list(zip([\"n_estimators\", \"max_depth\", \"max_features\", \"max_leaf_nodes\"], params_fin)))\n",
        "\n",
        "  rf_new = RandomForestClassifier(**best_params)\n",
        "  rf_new.fit(x_tr, y_tr)\n",
        "\n",
        "  hyp = best_params\n",
        "  auc = roc_auc_score(rf_new.predict(x_tt), y_tt)\n",
        "  acc = rf_new.score(x_tt, y_tt)\n",
        "\n",
        "  return hyp, auc, acc"
      ]
    },
    {
      "cell_type": "code",
      "execution_count": null,
      "metadata": {
        "id": "nCqIm3hUN-dj"
      },
      "outputs": [],
      "source": [
        "def lgbm(x_tr, y_tr, x_tt, y_tt):\n",
        "\n",
        "  clf = LGBMClassifier(n_estimators=1000, objective=\"binary\")\n",
        "\n",
        "  search_space = [\n",
        "                 space.Real(0.01, 0.5, name='learning_rate'),\n",
        "                 space.Integer(3, 120, name='max_depth'),\n",
        "                 space.Integer(10, 500, name=\"num_leaves\"),\n",
        "                 space.Integer(20, 1200, name=\"n_estimators\"),\n",
        "                 space.Categorical(['binary'], name=\"objective\")\n",
        "               ]\n",
        "\n",
        "  @use_named_args(search_space)\n",
        "\n",
        "  def obj(**params):\n",
        "    clf.set_params(**params)\n",
        "    result = cross_val_score(clf, x_tr, y_tr, cv=10, n_jobs=-1, scoring='roc_auc').mean()\n",
        "    return 1 - result\n",
        "\n",
        "  res_gp = gp_minimize(obj, search_space, n_calls=20, n_initial_points = 10, random_state=0)\n",
        "\n",
        "  params_fin = res_gp.x\n",
        "\n",
        "  best_params = dict(list(zip([\"learning_rate\", \"max_depth\", \"num_leaves\", \"n_estimators\", \"objective\"], params_fin)))\n",
        "\n",
        "  clf_new = LGBMClassifier(**best_params)\n",
        "  clf_new.fit(x_tr, y_tr)\n",
        "\n",
        "  hyp = best_params\n",
        "  auc = roc_auc_score(clf_new.predict(x_tt), y_tt)\n",
        "  acc = clf_new.score(x_tt, y_tt)\n",
        "\n",
        "  return hyp, auc, acc"
      ]
    },
    {
      "cell_type": "code",
      "execution_count": null,
      "metadata": {
        "id": "-lIBSr9KPGK6"
      },
      "outputs": [],
      "source": [
        "def xgb(x_tr, y_tr, x_tt, y_tt):\n",
        "\n",
        "  xgb = XGBClassifier(n_estimators=1000, objective=\"binary\")\n",
        "\n",
        "  search_space = [\n",
        "                 space.Integer(3, 120, name='max_depth'),\n",
        "                 space.Integer(1, 10, name=\"min_child_weight\"),\n",
        "                 space.Integer(20, 1200, name=\"n_estimators\"),\n",
        "                 space.Categorical(['binary:logistic'], name=\"objective\")\n",
        "               ]\n",
        "\n",
        "  @use_named_args(search_space)\n",
        "\n",
        "  def obj(**params):\n",
        "    xgb.set_params(**params)\n",
        "    result = cross_val_score(xgb, x_tr, y_tr, cv=10, n_jobs=-1, scoring='roc_auc').mean()\n",
        "    return 1 - result\n",
        "\n",
        "  res_gp = gp_minimize(obj, search_space, n_calls=20, n_initial_points = 10, random_state=0)\n",
        "\n",
        "  params_fin = res_gp.x\n",
        "\n",
        "  best_params = dict(list(zip([\"max_depth\", \"min_child_weight\", \"n_estimators\", \"objective\"], params_fin)))\n",
        "\n",
        "  xgb_new = XGBClassifier(**best_params)\n",
        "  xgb_new.fit(x_tr, y_tr)\n",
        "\n",
        "  hyp = best_params\n",
        "  auc = roc_auc_score(xgb_new.predict(x_tt), y_tt)\n",
        "  acc = xgb_new.score(x_tt, y_tt)\n",
        "\n",
        "  return hyp, auc, acc\n",
        "\n"
      ]
    },
    {
      "cell_type": "code",
      "execution_count": null,
      "metadata": {
        "id": "G5azlNA5RoLS"
      },
      "outputs": [],
      "source": [
        "def svc(x_tr, y_tr, x_tt, y_tt):\n",
        "\n",
        "  model = LinearSVC()\n",
        "\n",
        "  search_space = [\n",
        "                 space.Real(0.01, 1, name='C'),\n",
        "                 space.Categorical(['hinge', 'squared_hinge'], name=\"loss\")\n",
        "               ]\n",
        "\n",
        "  @use_named_args(search_space)\n",
        "\n",
        "  def obj(**params):\n",
        "    model.set_params(**params)\n",
        "    result = cross_val_score(model, x_tr, y_tr, cv=10, n_jobs=-1, scoring='roc_auc').mean()\n",
        "    return 1 - result\n",
        "\n",
        "  res_gp = gp_minimize(obj, search_space, n_calls=20, n_initial_points = 10, random_state=0)\n",
        "\n",
        "  params_fin = res_gp.x\n",
        "\n",
        "  best_params = dict(list(zip([\"C\", \"loss\"], params_fin)))\n",
        "\n",
        "  model_new = LinearSVC(**best_params)\n",
        "  model_new.fit(x_tr, y_tr)\n",
        "\n",
        "  hyp = best_params\n",
        "  auc = roc_auc_score(model_new.predict(x_tt), y_tt)\n",
        "  acc = model_new.score(x_tt, y_tt)\n",
        "\n",
        "  return hyp, auc, acc"
      ]
    },
    {
      "cell_type": "markdown",
      "metadata": {
        "id": "jgAB7qmGtj74"
      },
      "source": [
        "## Batter data model"
      ]
    },
    {
      "cell_type": "code",
      "execution_count": null,
      "metadata": {
        "colab": {
          "base_uri": "https://localhost:8080/"
        },
        "id": "LPNrGk0lDsCf",
        "outputId": "aecc1cde-9966-4b55-dcce-f672d9fccc88"
      },
      "outputs": [
        {
          "name": "stderr",
          "output_type": "stream",
          "text": [
            "/usr/local/lib/python3.10/dist-packages/skopt/optimizer/optimizer.py:449: UserWarning: The objective has been evaluated at this point before.\n",
            "  warnings.warn(\"The objective has been evaluated \"\n",
            "/usr/local/lib/python3.10/dist-packages/sklearn/svm/_base.py:1244: ConvergenceWarning: Liblinear failed to converge, increase the number of iterations.\n",
            "  warnings.warn(\n"
          ]
        }
      ],
      "source": [
        "from skopt.utils import use_named_args\n",
        "\n",
        "from sklearn.model_selection import train_test_split\n",
        "\n",
        "auc = np.empty(6)\n",
        "acc = np.empty(6)\n",
        "\n",
        "X_trainb, X_testb, y_trainb, y_testb = train_test_split(X_bat, Y_bat, test_size=0.2, random_state=16)\n",
        "\n",
        "log_params, auc[0], acc[0] = logistic(X_trainb, y_trainb, X_testb, y_testb)\n",
        "\n",
        "rfe_params, auc[1], acc[1] = rfe(X_trainb, y_trainb, X_testb, y_testb)\n",
        "\n",
        "rf_params, auc[2], acc[2] = rf(X_trainb, y_trainb, X_testb, y_testb)\n",
        "\n",
        "lgbm_params, auc[3], acc[3] = lgbm(X_trainb, y_trainb, X_testb, y_testb)\n",
        "\n",
        "xgb_params, auc[4], acc[4] = xgb(X_trainb, y_trainb, X_testb, y_testb)\n",
        "\n",
        "svc_params, auc[5], acc[5] = svc(X_trainb, y_trainb, X_testb, y_testb)"
      ]
    },
    {
      "cell_type": "code",
      "execution_count": null,
      "metadata": {
        "colab": {
          "base_uri": "https://localhost:8080/",
          "height": 238
        },
        "id": "19Wa0mbG3efL",
        "outputId": "f1814eb7-ced4-43e5-a2e4-777dbc5c2436"
      },
      "outputs": [
        {
          "data": {
            "text/html": [
              "\n",
              "\n",
              "  <div id=\"df-31f3d715-8889-4617-a3e4-16cc01822f4c\">\n",
              "    <div class=\"colab-df-container\">\n",
              "      <div>\n",
              "<style scoped>\n",
              "    .dataframe tbody tr th:only-of-type {\n",
              "        vertical-align: middle;\n",
              "    }\n",
              "\n",
              "    .dataframe tbody tr th {\n",
              "        vertical-align: top;\n",
              "    }\n",
              "\n",
              "    .dataframe thead th {\n",
              "        text-align: right;\n",
              "    }\n",
              "</style>\n",
              "<table border=\"1\" class=\"dataframe\">\n",
              "  <thead>\n",
              "    <tr style=\"text-align: right;\">\n",
              "      <th></th>\n",
              "      <th>auc</th>\n",
              "      <th>acc</th>\n",
              "    </tr>\n",
              "  </thead>\n",
              "  <tbody>\n",
              "    <tr>\n",
              "      <th>0</th>\n",
              "      <td>0.484089</td>\n",
              "      <td>0.860907</td>\n",
              "    </tr>\n",
              "    <tr>\n",
              "      <th>1</th>\n",
              "      <td>0.795249</td>\n",
              "      <td>0.895833</td>\n",
              "    </tr>\n",
              "    <tr>\n",
              "      <th>2</th>\n",
              "      <td>0.792417</td>\n",
              "      <td>0.893689</td>\n",
              "    </tr>\n",
              "    <tr>\n",
              "      <th>3</th>\n",
              "      <td>0.788518</td>\n",
              "      <td>0.896446</td>\n",
              "    </tr>\n",
              "    <tr>\n",
              "      <th>4</th>\n",
              "      <td>0.774536</td>\n",
              "      <td>0.891850</td>\n",
              "    </tr>\n",
              "    <tr>\n",
              "      <th>5</th>\n",
              "      <td>0.873925</td>\n",
              "      <td>0.872855</td>\n",
              "    </tr>\n",
              "  </tbody>\n",
              "</table>\n",
              "</div>\n",
              "      <button class=\"colab-df-convert\" onclick=\"convertToInteractive('df-31f3d715-8889-4617-a3e4-16cc01822f4c')\"\n",
              "              title=\"Convert this dataframe to an interactive table.\"\n",
              "              style=\"display:none;\">\n",
              "\n",
              "  <svg xmlns=\"http://www.w3.org/2000/svg\" height=\"24px\"viewBox=\"0 0 24 24\"\n",
              "       width=\"24px\">\n",
              "    <path d=\"M0 0h24v24H0V0z\" fill=\"none\"/>\n",
              "    <path d=\"M18.56 5.44l.94 2.06.94-2.06 2.06-.94-2.06-.94-.94-2.06-.94 2.06-2.06.94zm-11 1L8.5 8.5l.94-2.06 2.06-.94-2.06-.94L8.5 2.5l-.94 2.06-2.06.94zm10 10l.94 2.06.94-2.06 2.06-.94-2.06-.94-.94-2.06-.94 2.06-2.06.94z\"/><path d=\"M17.41 7.96l-1.37-1.37c-.4-.4-.92-.59-1.43-.59-.52 0-1.04.2-1.43.59L10.3 9.45l-7.72 7.72c-.78.78-.78 2.05 0 2.83L4 21.41c.39.39.9.59 1.41.59.51 0 1.02-.2 1.41-.59l7.78-7.78 2.81-2.81c.8-.78.8-2.07 0-2.86zM5.41 20L4 18.59l7.72-7.72 1.47 1.35L5.41 20z\"/>\n",
              "  </svg>\n",
              "      </button>\n",
              "\n",
              "\n",
              "\n",
              "    <div id=\"df-e760918b-82b0-4fd9-bfd6-9a81ccdd5a81\">\n",
              "      <button class=\"colab-df-quickchart\" onclick=\"quickchart('df-e760918b-82b0-4fd9-bfd6-9a81ccdd5a81')\"\n",
              "              title=\"Suggest charts.\"\n",
              "              style=\"display:none;\">\n",
              "\n",
              "<svg xmlns=\"http://www.w3.org/2000/svg\" height=\"24px\"viewBox=\"0 0 24 24\"\n",
              "     width=\"24px\">\n",
              "    <g>\n",
              "        <path d=\"M19 3H5c-1.1 0-2 .9-2 2v14c0 1.1.9 2 2 2h14c1.1 0 2-.9 2-2V5c0-1.1-.9-2-2-2zM9 17H7v-7h2v7zm4 0h-2V7h2v10zm4 0h-2v-4h2v4z\"/>\n",
              "    </g>\n",
              "</svg>\n",
              "      </button>\n",
              "    </div>\n",
              "\n",
              "<style>\n",
              "  .colab-df-quickchart {\n",
              "    background-color: #E8F0FE;\n",
              "    border: none;\n",
              "    border-radius: 50%;\n",
              "    cursor: pointer;\n",
              "    display: none;\n",
              "    fill: #1967D2;\n",
              "    height: 32px;\n",
              "    padding: 0 0 0 0;\n",
              "    width: 32px;\n",
              "  }\n",
              "\n",
              "  .colab-df-quickchart:hover {\n",
              "    background-color: #E2EBFA;\n",
              "    box-shadow: 0px 1px 2px rgba(60, 64, 67, 0.3), 0px 1px 3px 1px rgba(60, 64, 67, 0.15);\n",
              "    fill: #174EA6;\n",
              "  }\n",
              "\n",
              "  [theme=dark] .colab-df-quickchart {\n",
              "    background-color: #3B4455;\n",
              "    fill: #D2E3FC;\n",
              "  }\n",
              "\n",
              "  [theme=dark] .colab-df-quickchart:hover {\n",
              "    background-color: #434B5C;\n",
              "    box-shadow: 0px 1px 3px 1px rgba(0, 0, 0, 0.15);\n",
              "    filter: drop-shadow(0px 1px 2px rgba(0, 0, 0, 0.3));\n",
              "    fill: #FFFFFF;\n",
              "  }\n",
              "</style>\n",
              "\n",
              "    <script>\n",
              "      async function quickchart(key) {\n",
              "        const containerElement = document.querySelector('#' + key);\n",
              "        const charts = await google.colab.kernel.invokeFunction(\n",
              "            'suggestCharts', [key], {});\n",
              "      }\n",
              "    </script>\n",
              "\n",
              "      <script>\n",
              "\n",
              "function displayQuickchartButton(domScope) {\n",
              "  let quickchartButtonEl =\n",
              "    domScope.querySelector('#df-e760918b-82b0-4fd9-bfd6-9a81ccdd5a81 button.colab-df-quickchart');\n",
              "  quickchartButtonEl.style.display =\n",
              "    google.colab.kernel.accessAllowed ? 'block' : 'none';\n",
              "}\n",
              "\n",
              "        displayQuickchartButton(document);\n",
              "      </script>\n",
              "      <style>\n",
              "    .colab-df-container {\n",
              "      display:flex;\n",
              "      flex-wrap:wrap;\n",
              "      gap: 12px;\n",
              "    }\n",
              "\n",
              "    .colab-df-convert {\n",
              "      background-color: #E8F0FE;\n",
              "      border: none;\n",
              "      border-radius: 50%;\n",
              "      cursor: pointer;\n",
              "      display: none;\n",
              "      fill: #1967D2;\n",
              "      height: 32px;\n",
              "      padding: 0 0 0 0;\n",
              "      width: 32px;\n",
              "    }\n",
              "\n",
              "    .colab-df-convert:hover {\n",
              "      background-color: #E2EBFA;\n",
              "      box-shadow: 0px 1px 2px rgba(60, 64, 67, 0.3), 0px 1px 3px 1px rgba(60, 64, 67, 0.15);\n",
              "      fill: #174EA6;\n",
              "    }\n",
              "\n",
              "    [theme=dark] .colab-df-convert {\n",
              "      background-color: #3B4455;\n",
              "      fill: #D2E3FC;\n",
              "    }\n",
              "\n",
              "    [theme=dark] .colab-df-convert:hover {\n",
              "      background-color: #434B5C;\n",
              "      box-shadow: 0px 1px 3px 1px rgba(0, 0, 0, 0.15);\n",
              "      filter: drop-shadow(0px 1px 2px rgba(0, 0, 0, 0.3));\n",
              "      fill: #FFFFFF;\n",
              "    }\n",
              "  </style>\n",
              "\n",
              "      <script>\n",
              "        const buttonEl =\n",
              "          document.querySelector('#df-31f3d715-8889-4617-a3e4-16cc01822f4c button.colab-df-convert');\n",
              "        buttonEl.style.display =\n",
              "          google.colab.kernel.accessAllowed ? 'block' : 'none';\n",
              "\n",
              "        async function convertToInteractive(key) {\n",
              "          const element = document.querySelector('#df-31f3d715-8889-4617-a3e4-16cc01822f4c');\n",
              "          const dataTable =\n",
              "            await google.colab.kernel.invokeFunction('convertToInteractive',\n",
              "                                                     [key], {});\n",
              "          if (!dataTable) return;\n",
              "\n",
              "          const docLinkHtml = 'Like what you see? Visit the ' +\n",
              "            '<a target=\"_blank\" href=https://colab.research.google.com/notebooks/data_table.ipynb>data table notebook</a>'\n",
              "            + ' to learn more about interactive tables.';\n",
              "          element.innerHTML = '';\n",
              "          dataTable['output_type'] = 'display_data';\n",
              "          await google.colab.output.renderOutput(dataTable, element);\n",
              "          const docLink = document.createElement('div');\n",
              "          docLink.innerHTML = docLinkHtml;\n",
              "          element.appendChild(docLink);\n",
              "        }\n",
              "      </script>\n",
              "    </div>\n",
              "  </div>\n"
            ],
            "text/plain": [
              "        auc       acc\n",
              "0  0.484089  0.860907\n",
              "1  0.795249  0.895833\n",
              "2  0.792417  0.893689\n",
              "3  0.788518  0.896446\n",
              "4  0.774536  0.891850\n",
              "5  0.873925  0.872855"
            ]
          },
          "execution_count": 65,
          "metadata": {},
          "output_type": "execute_result"
        }
      ],
      "source": [
        "bat_summary = pd.DataFrame()\n",
        "bat_summary['auc'] = auc\n",
        "bat_summary['acc'] = acc\n",
        "\n",
        "bat_summary"
      ]
    },
    {
      "cell_type": "code",
      "execution_count": null,
      "metadata": {
        "colab": {
          "base_uri": "https://localhost:8080/"
        },
        "id": "6SbRZnBJDix1",
        "outputId": "5e3b2687-d284-4442-c963-036d950b0cee"
      },
      "outputs": [
        {
          "name": "stdout",
          "output_type": "stream",
          "text": [
            "{'learning_rate': 0.01, 'max_depth': 111, 'num_leaves': 10, 'n_estimators': 1200, 'objective': 'binary'}\n"
          ]
        }
      ],
      "source": [
        "print(lgbm_params)"
      ]
    },
    {
      "cell_type": "code",
      "execution_count": null,
      "metadata": {
        "colab": {
          "base_uri": "https://localhost:8080/",
          "height": 1000
        },
        "id": "40FtatCn3U-c",
        "outputId": "f3414799-c22f-40ec-eff5-d8ece981fd3a"
      },
      "outputs": [
        {
          "name": "stdout",
          "output_type": "stream",
          "text": [
            "Requirement already satisfied: shap in /usr/local/lib/python3.10/dist-packages (0.42.1)\n",
            "Requirement already satisfied: numpy in /usr/local/lib/python3.10/dist-packages (from shap) (1.22.4)\n",
            "Requirement already satisfied: scipy in /usr/local/lib/python3.10/dist-packages (from shap) (1.10.1)\n",
            "Requirement already satisfied: scikit-learn in /usr/local/lib/python3.10/dist-packages (from shap) (1.2.2)\n",
            "Requirement already satisfied: pandas in /usr/local/lib/python3.10/dist-packages (from shap) (1.5.3)\n",
            "Requirement already satisfied: tqdm>=4.27.0 in /usr/local/lib/python3.10/dist-packages (from shap) (4.65.0)\n",
            "Requirement already satisfied: packaging>20.9 in /usr/local/lib/python3.10/dist-packages (from shap) (23.1)\n",
            "Requirement already satisfied: slicer==0.0.7 in /usr/local/lib/python3.10/dist-packages (from shap) (0.0.7)\n",
            "Requirement already satisfied: numba in /usr/local/lib/python3.10/dist-packages (from shap) (0.56.4)\n",
            "Requirement already satisfied: cloudpickle in /usr/local/lib/python3.10/dist-packages (from shap) (2.2.1)\n",
            "Requirement already satisfied: llvmlite<0.40,>=0.39.0dev0 in /usr/local/lib/python3.10/dist-packages (from numba->shap) (0.39.1)\n",
            "Requirement already satisfied: setuptools in /usr/local/lib/python3.10/dist-packages (from numba->shap) (67.7.2)\n",
            "Requirement already satisfied: python-dateutil>=2.8.1 in /usr/local/lib/python3.10/dist-packages (from pandas->shap) (2.8.2)\n",
            "Requirement already satisfied: pytz>=2020.1 in /usr/local/lib/python3.10/dist-packages (from pandas->shap) (2022.7.1)\n",
            "Requirement already satisfied: joblib>=1.1.1 in /usr/local/lib/python3.10/dist-packages (from scikit-learn->shap) (1.3.1)\n",
            "Requirement already satisfied: threadpoolctl>=2.0.0 in /usr/local/lib/python3.10/dist-packages (from scikit-learn->shap) (3.2.0)\n",
            "Requirement already satisfied: six>=1.5 in /usr/local/lib/python3.10/dist-packages (from python-dateutil>=2.8.1->pandas->shap) (1.16.0)\n"
          ]
        },
        {
          "name": "stderr",
          "output_type": "stream",
          "text": [
            "LightGBM binary classifier with TreeExplainer shap values output has changed to a list of ndarray\n",
            "No data for colormapping provided via 'c'. Parameters 'vmin', 'vmax' will be ignored\n"
          ]
        },
        {
          "data": {
            "image/png": "[encoded data removed]",
            "text/plain": [
              "<Figure size 800x830 with 2 Axes>"
            ]
          },
          "metadata": {},
          "output_type": "display_data"
        }
      ],
      "source": [
        "!pip install shap\n",
        "import numpy\n",
        "import shap\n",
        "\n",
        "clf_best = LGBMClassifier(**lgbm_params)\n",
        "\n",
        "clf_best.fit(X_trainb, y_trainb)\n",
        "\n",
        "explainer = shap.TreeExplainer(clf_best)\n",
        "shap_values = explainer.shap_values(X_testb)\n",
        "# shap values for survival\n",
        "#sv_survive = sv[:,y3,:]\n",
        "# shap values for dying\n",
        "#sv_die = sv[:,~y3,:]\n",
        "\n",
        "shap.summary_plot(shap_values[1], X_testb)"
      ]
    },
    {
      "cell_type": "markdown",
      "metadata": {
        "id": "pYRDjvOvD6yz"
      },
      "source": [
        "WAR -> RBI -> AB\n",
        "\n",
        "different result from pitcher, almost all values are positively correlated\n",
        "\n",
        "with the exception of WAR all the top predictors are classsic stats -> different from expected\n",
        "\n",
        "salary is not that big of an issue, may be due to lack of quality data"
      ]
    },
    {
      "cell_type": "code",
      "execution_count": null,
      "metadata": {
        "colab": {
          "base_uri": "https://localhost:8080/",
          "height": 474
        },
        "id": "EK0JzJWeKi0W",
        "outputId": "bf999d0f-4dfc-455b-fa24-cac422c13af1"
      },
      "outputs": [
        {
          "data": {
            "image/png": "[encoded data removed]",
            "text/plain": [
              "<Figure size 640x480 with 1 Axes>"
            ]
          },
          "metadata": {},
          "output_type": "display_data"
        }
      ],
      "source": [
        "feature_importances = pd.Series(clf_best.feature_importances_, index=X_trainb.columns).sort_values(ascending=False)\n",
        "\n",
        "# Plot a simple bar chart\n",
        "feature_importances.plot.bar();"
      ]
    },
    {
      "cell_type": "markdown",
      "metadata": {
        "id": "TnOO3k8rtnRQ"
      },
      "source": [
        "## Pitcher data model"
      ]
    },
    {
      "cell_type": "code",
      "execution_count": null,
      "metadata": {
        "colab": {
          "base_uri": "https://localhost:8080/"
        },
        "id": "-2-EPAwx3stx",
        "outputId": "87bd102c-15dd-42e7-c8e0-5262b465ce8a"
      },
      "outputs": [
        {
          "output_type": "stream",
          "name": "stderr",
          "text": [
            "/usr/local/lib/python3.10/dist-packages/skopt/optimizer/optimizer.py:449: UserWarning: The objective has been evaluated at this point before.\n",
            "  warnings.warn(\"The objective has been evaluated \"\n",
            "/usr/local/lib/python3.10/dist-packages/sklearn/svm/_base.py:1244: ConvergenceWarning: Liblinear failed to converge, increase the number of iterations.\n",
            "  warnings.warn(\n",
            "/usr/local/lib/python3.10/dist-packages/sklearn/svm/_base.py:1244: ConvergenceWarning: Liblinear failed to converge, increase the number of iterations.\n",
            "  warnings.warn(\n",
            "/usr/local/lib/python3.10/dist-packages/sklearn/svm/_base.py:1244: ConvergenceWarning: Liblinear failed to converge, increase the number of iterations.\n",
            "  warnings.warn(\n",
            "/usr/local/lib/python3.10/dist-packages/sklearn/svm/_base.py:1244: ConvergenceWarning: Liblinear failed to converge, increase the number of iterations.\n",
            "  warnings.warn(\n",
            "/usr/local/lib/python3.10/dist-packages/sklearn/svm/_base.py:1244: ConvergenceWarning: Liblinear failed to converge, increase the number of iterations.\n",
            "  warnings.warn(\n",
            "/usr/local/lib/python3.10/dist-packages/sklearn/svm/_base.py:1244: ConvergenceWarning: Liblinear failed to converge, increase the number of iterations.\n",
            "  warnings.warn(\n",
            "/usr/local/lib/python3.10/dist-packages/sklearn/svm/_base.py:1244: ConvergenceWarning: Liblinear failed to converge, increase the number of iterations.\n",
            "  warnings.warn(\n",
            "/usr/local/lib/python3.10/dist-packages/sklearn/svm/_base.py:1244: ConvergenceWarning: Liblinear failed to converge, increase the number of iterations.\n",
            "  warnings.warn(\n",
            "/usr/local/lib/python3.10/dist-packages/sklearn/svm/_base.py:1244: ConvergenceWarning: Liblinear failed to converge, increase the number of iterations.\n",
            "  warnings.warn(\n",
            "/usr/local/lib/python3.10/dist-packages/sklearn/svm/_base.py:1244: ConvergenceWarning: Liblinear failed to converge, increase the number of iterations.\n",
            "  warnings.warn(\n",
            "/usr/local/lib/python3.10/dist-packages/sklearn/svm/_base.py:1244: ConvergenceWarning: Liblinear failed to converge, increase the number of iterations.\n",
            "  warnings.warn(\n",
            "/usr/local/lib/python3.10/dist-packages/sklearn/svm/_base.py:1244: ConvergenceWarning: Liblinear failed to converge, increase the number of iterations.\n",
            "  warnings.warn(\n"
          ]
        }
      ],
      "source": [
        "from skopt.utils import use_named_args\n",
        "\n",
        "from sklearn.model_selection import train_test_split\n",
        "\n",
        "auc = np.empty(12)\n",
        "acc = np.empty(12)\n",
        "\n",
        "X_trainp, X_testp, y_trainp, y_testp = train_test_split(X_pit, Y_pit, test_size=0.2, random_state=16)\n",
        "\n",
        "log_params, auc[5], acc[5] = logistic(X_trainp, y_trainp, X_testp, y_testp)\n",
        "\n",
        "rfe_params, auc[6], acc[6] = rfe(X_trainp, y_trainp, X_testp, y_testp)\n",
        "\n",
        "rf_params, auc[7], acc[7] = rf(X_trainp, y_trainp, X_testp, y_testp)\n",
        "\n",
        "lgbm_params, auc[8], acc[8] = lgbm(X_trainp, y_trainp, X_testp, y_testp)\n",
        "\n",
        "xgb_params, auc[9], acc[9] = xgb(X_trainp, y_trainp, X_testp, y_testp)\n",
        "\n",
        "svc_params, auc[10], acc[10] = svc(X_trainp, y_trainp, X_testp, y_testp)"
      ]
    },
    {
      "cell_type": "code",
      "execution_count": null,
      "metadata": {
        "colab": {
          "base_uri": "https://localhost:8080/",
          "height": 426
        },
        "id": "uy4fAWhC4RhK",
        "outputId": "2160f412-2644-4b71-dad7-e1a16c666ea5"
      },
      "outputs": [
        {
          "output_type": "execute_result",
          "data": {
            "text/plain": [
              "              auc            acc\n",
              "0   1.072846e-317   0.000000e+00\n",
              "1   6.663236e-317  4.940656e-324\n",
              "2             NaN   0.000000e+00\n",
              "3   1.246364e-316  4.940656e-324\n",
              "4             NaN  9.881313e-324\n",
              "5    5.861351e-01   9.014989e-01\n",
              "6    8.042084e-01   9.224839e-01\n",
              "7    8.392876e-01   9.289079e-01\n",
              "8    8.408606e-01   9.323340e-01\n",
              "9    8.283764e-01   9.280514e-01\n",
              "10   5.813061e-01   8.184154e-01\n",
              "11  1.072846e-317   0.000000e+00"
            ],
            "text/html": [
              "\n",
              "\n",
              "  <div id=\"df-d5d26984-dd4e-4170-99f9-d3f62bee2a10\">\n",
              "    <div class=\"colab-df-container\">\n",
              "      <div>\n",
              "<style scoped>\n",
              "    .dataframe tbody tr th:only-of-type {\n",
              "        vertical-align: middle;\n",
              "    }\n",
              "\n",
              "    .dataframe tbody tr th {\n",
              "        vertical-align: top;\n",
              "    }\n",
              "\n",
              "    .dataframe thead th {\n",
              "        text-align: right;\n",
              "    }\n",
              "</style>\n",
              "<table border=\"1\" class=\"dataframe\">\n",
              "  <thead>\n",
              "    <tr style=\"text-align: right;\">\n",
              "      <th></th>\n",
              "      <th>auc</th>\n",
              "      <th>acc</th>\n",
              "    </tr>\n",
              "  </thead>\n",
              "  <tbody>\n",
              "    <tr>\n",
              "      <th>0</th>\n",
              "      <td>1.072846e-317</td>\n",
              "      <td>0.000000e+00</td>\n",
              "    </tr>\n",
              "    <tr>\n",
              "      <th>1</th>\n",
              "      <td>6.663236e-317</td>\n",
              "      <td>4.940656e-324</td>\n",
              "    </tr>\n",
              "    <tr>\n",
              "      <th>2</th>\n",
              "      <td>NaN</td>\n",
              "      <td>0.000000e+00</td>\n",
              "    </tr>\n",
              "    <tr>\n",
              "      <th>3</th>\n",
              "      <td>1.246364e-316</td>\n",
              "      <td>4.940656e-324</td>\n",
              "    </tr>\n",
              "    <tr>\n",
              "      <th>4</th>\n",
              "      <td>NaN</td>\n",
              "      <td>9.881313e-324</td>\n",
              "    </tr>\n",
              "    <tr>\n",
              "      <th>5</th>\n",
              "      <td>5.861351e-01</td>\n",
              "      <td>9.014989e-01</td>\n",
              "    </tr>\n",
              "    <tr>\n",
              "      <th>6</th>\n",
              "      <td>8.042084e-01</td>\n",
              "      <td>9.224839e-01</td>\n",
              "    </tr>\n",
              "    <tr>\n",
              "      <th>7</th>\n",
              "      <td>8.392876e-01</td>\n",
              "      <td>9.289079e-01</td>\n",
              "    </tr>\n",
              "    <tr>\n",
              "      <th>8</th>\n",
              "      <td>8.408606e-01</td>\n",
              "      <td>9.323340e-01</td>\n",
              "    </tr>\n",
              "    <tr>\n",
              "      <th>9</th>\n",
              "      <td>8.283764e-01</td>\n",
              "      <td>9.280514e-01</td>\n",
              "    </tr>\n",
              "    <tr>\n",
              "      <th>10</th>\n",
              "      <td>5.813061e-01</td>\n",
              "      <td>8.184154e-01</td>\n",
              "    </tr>\n",
              "    <tr>\n",
              "      <th>11</th>\n",
              "      <td>1.072846e-317</td>\n",
              "      <td>0.000000e+00</td>\n",
              "    </tr>\n",
              "  </tbody>\n",
              "</table>\n",
              "</div>\n",
              "      <button class=\"colab-df-convert\" onclick=\"convertToInteractive('df-d5d26984-dd4e-4170-99f9-d3f62bee2a10')\"\n",
              "              title=\"Convert this dataframe to an interactive table.\"\n",
              "              style=\"display:none;\">\n",
              "\n",
              "  <svg xmlns=\"http://www.w3.org/2000/svg\" height=\"24px\"viewBox=\"0 0 24 24\"\n",
              "       width=\"24px\">\n",
              "    <path d=\"M0 0h24v24H0V0z\" fill=\"none\"/>\n",
              "    <path d=\"M18.56 5.44l.94 2.06.94-2.06 2.06-.94-2.06-.94-.94-2.06-.94 2.06-2.06.94zm-11 1L8.5 8.5l.94-2.06 2.06-.94-2.06-.94L8.5 2.5l-.94 2.06-2.06.94zm10 10l.94 2.06.94-2.06 2.06-.94-2.06-.94-.94-2.06-.94 2.06-2.06.94z\"/><path d=\"M17.41 7.96l-1.37-1.37c-.4-.4-.92-.59-1.43-.59-.52 0-1.04.2-1.43.59L10.3 9.45l-7.72 7.72c-.78.78-.78 2.05 0 2.83L4 21.41c.39.39.9.59 1.41.59.51 0 1.02-.2 1.41-.59l7.78-7.78 2.81-2.81c.8-.78.8-2.07 0-2.86zM5.41 20L4 18.59l7.72-7.72 1.47 1.35L5.41 20z\"/>\n",
              "  </svg>\n",
              "      </button>\n",
              "\n",
              "\n",
              "\n",
              "    <div id=\"df-d61c24cd-0dde-4f85-93c1-fb56bc107945\">\n",
              "      <button class=\"colab-df-quickchart\" onclick=\"quickchart('df-d61c24cd-0dde-4f85-93c1-fb56bc107945')\"\n",
              "              title=\"Suggest charts.\"\n",
              "              style=\"display:none;\">\n",
              "\n",
              "<svg xmlns=\"http://www.w3.org/2000/svg\" height=\"24px\"viewBox=\"0 0 24 24\"\n",
              "     width=\"24px\">\n",
              "    <g>\n",
              "        <path d=\"M19 3H5c-1.1 0-2 .9-2 2v14c0 1.1.9 2 2 2h14c1.1 0 2-.9 2-2V5c0-1.1-.9-2-2-2zM9 17H7v-7h2v7zm4 0h-2V7h2v10zm4 0h-2v-4h2v4z\"/>\n",
              "    </g>\n",
              "</svg>\n",
              "      </button>\n",
              "    </div>\n",
              "\n",
              "<style>\n",
              "  .colab-df-quickchart {\n",
              "    background-color: #E8F0FE;\n",
              "    border: none;\n",
              "    border-radius: 50%;\n",
              "    cursor: pointer;\n",
              "    display: none;\n",
              "    fill: #1967D2;\n",
              "    height: 32px;\n",
              "    padding: 0 0 0 0;\n",
              "    width: 32px;\n",
              "  }\n",
              "\n",
              "  .colab-df-quickchart:hover {\n",
              "    background-color: #E2EBFA;\n",
              "    box-shadow: 0px 1px 2px rgba(60, 64, 67, 0.3), 0px 1px 3px 1px rgba(60, 64, 67, 0.15);\n",
              "    fill: #174EA6;\n",
              "  }\n",
              "\n",
              "  [theme=dark] .colab-df-quickchart {\n",
              "    background-color: #3B4455;\n",
              "    fill: #D2E3FC;\n",
              "  }\n",
              "\n",
              "  [theme=dark] .colab-df-quickchart:hover {\n",
              "    background-color: #434B5C;\n",
              "    box-shadow: 0px 1px 3px 1px rgba(0, 0, 0, 0.15);\n",
              "    filter: drop-shadow(0px 1px 2px rgba(0, 0, 0, 0.3));\n",
              "    fill: #FFFFFF;\n",
              "  }\n",
              "</style>\n",
              "\n",
              "    <script>\n",
              "      async function quickchart(key) {\n",
              "        const containerElement = document.querySelector('#' + key);\n",
              "        const charts = await google.colab.kernel.invokeFunction(\n",
              "            'suggestCharts', [key], {});\n",
              "      }\n",
              "    </script>\n",
              "\n",
              "      <script>\n",
              "\n",
              "function displayQuickchartButton(domScope) {\n",
              "  let quickchartButtonEl =\n",
              "    domScope.querySelector('#df-d61c24cd-0dde-4f85-93c1-fb56bc107945 button.colab-df-quickchart');\n",
              "  quickchartButtonEl.style.display =\n",
              "    google.colab.kernel.accessAllowed ? 'block' : 'none';\n",
              "}\n",
              "\n",
              "        displayQuickchartButton(document);\n",
              "      </script>\n",
              "      <style>\n",
              "    .colab-df-container {\n",
              "      display:flex;\n",
              "      flex-wrap:wrap;\n",
              "      gap: 12px;\n",
              "    }\n",
              "\n",
              "    .colab-df-convert {\n",
              "      background-color: #E8F0FE;\n",
              "      border: none;\n",
              "      border-radius: 50%;\n",
              "      cursor: pointer;\n",
              "      display: none;\n",
              "      fill: #1967D2;\n",
              "      height: 32px;\n",
              "      padding: 0 0 0 0;\n",
              "      width: 32px;\n",
              "    }\n",
              "\n",
              "    .colab-df-convert:hover {\n",
              "      background-color: #E2EBFA;\n",
              "      box-shadow: 0px 1px 2px rgba(60, 64, 67, 0.3), 0px 1px 3px 1px rgba(60, 64, 67, 0.15);\n",
              "      fill: #174EA6;\n",
              "    }\n",
              "\n",
              "    [theme=dark] .colab-df-convert {\n",
              "      background-color: #3B4455;\n",
              "      fill: #D2E3FC;\n",
              "    }\n",
              "\n",
              "    [theme=dark] .colab-df-convert:hover {\n",
              "      background-color: #434B5C;\n",
              "      box-shadow: 0px 1px 3px 1px rgba(0, 0, 0, 0.15);\n",
              "      filter: drop-shadow(0px 1px 2px rgba(0, 0, 0, 0.3));\n",
              "      fill: #FFFFFF;\n",
              "    }\n",
              "  </style>\n",
              "\n",
              "      <script>\n",
              "        const buttonEl =\n",
              "          document.querySelector('#df-d5d26984-dd4e-4170-99f9-d3f62bee2a10 button.colab-df-convert');\n",
              "        buttonEl.style.display =\n",
              "          google.colab.kernel.accessAllowed ? 'block' : 'none';\n",
              "\n",
              "        async function convertToInteractive(key) {\n",
              "          const element = document.querySelector('#df-d5d26984-dd4e-4170-99f9-d3f62bee2a10');\n",
              "          const dataTable =\n",
              "            await google.colab.kernel.invokeFunction('convertToInteractive',\n",
              "                                                     [key], {});\n",
              "          if (!dataTable) return;\n",
              "\n",
              "          const docLinkHtml = 'Like what you see? Visit the ' +\n",
              "            '<a target=\"_blank\" href=https://colab.research.google.com/notebooks/data_table.ipynb>data table notebook</a>'\n",
              "            + ' to learn more about interactive tables.';\n",
              "          element.innerHTML = '';\n",
              "          dataTable['output_type'] = 'display_data';\n",
              "          await google.colab.output.renderOutput(dataTable, element);\n",
              "          const docLink = document.createElement('div');\n",
              "          docLink.innerHTML = docLinkHtml;\n",
              "          element.appendChild(docLink);\n",
              "        }\n",
              "      </script>\n",
              "    </div>\n",
              "  </div>\n"
            ]
          },
          "metadata": {},
          "execution_count": 65
        }
      ],
      "source": [
        "pit_summary = pd.DataFrame()\n",
        "pit_summary['auc'] = auc\n",
        "pit_summary['acc'] = acc\n",
        "\n",
        "pit_summary"
      ]
    },
    {
      "cell_type": "code",
      "execution_count": null,
      "metadata": {
        "colab": {
          "base_uri": "https://localhost:8080/"
        },
        "id": "cihhhZR_HV9P",
        "outputId": "c94d4052-b818-4524-d757-1bc523e0e095"
      },
      "outputs": [
        {
          "output_type": "stream",
          "name": "stdout",
          "text": [
            "{'learning_rate': 0.01, 'max_depth': 3, 'num_leaves': 10, 'n_estimators': 1103, 'objective': 'binary'}\n"
          ]
        }
      ],
      "source": [
        "print(lgbm_params)"
      ]
    },
    {
      "cell_type": "code",
      "execution_count": null,
      "metadata": {
        "colab": {
          "base_uri": "https://localhost:8080/",
          "height": 1000
        },
        "id": "XrRk9aJyHUXI",
        "outputId": "07662f93-a41c-4499-dde8-dae10ca3ca28"
      },
      "outputs": [
        {
          "output_type": "stream",
          "name": "stdout",
          "text": [
            "Requirement already satisfied: shap in /usr/local/lib/python3.10/dist-packages (0.42.1)\n",
            "Requirement already satisfied: numpy in /usr/local/lib/python3.10/dist-packages (from shap) (1.22.4)\n",
            "Requirement already satisfied: scipy in /usr/local/lib/python3.10/dist-packages (from shap) (1.10.1)\n",
            "Requirement already satisfied: scikit-learn in /usr/local/lib/python3.10/dist-packages (from shap) (1.2.2)\n",
            "Requirement already satisfied: pandas in /usr/local/lib/python3.10/dist-packages (from shap) (1.5.3)\n",
            "Requirement already satisfied: tqdm>=4.27.0 in /usr/local/lib/python3.10/dist-packages (from shap) (4.65.0)\n",
            "Requirement already satisfied: packaging>20.9 in /usr/local/lib/python3.10/dist-packages (from shap) (23.1)\n",
            "Requirement already satisfied: slicer==0.0.7 in /usr/local/lib/python3.10/dist-packages (from shap) (0.0.7)\n",
            "Requirement already satisfied: numba in /usr/local/lib/python3.10/dist-packages (from shap) (0.56.4)\n",
            "Requirement already satisfied: cloudpickle in /usr/local/lib/python3.10/dist-packages (from shap) (2.2.1)\n",
            "Requirement already satisfied: llvmlite<0.40,>=0.39.0dev0 in /usr/local/lib/python3.10/dist-packages (from numba->shap) (0.39.1)\n",
            "Requirement already satisfied: setuptools in /usr/local/lib/python3.10/dist-packages (from numba->shap) (67.7.2)\n",
            "Requirement already satisfied: python-dateutil>=2.8.1 in /usr/local/lib/python3.10/dist-packages (from pandas->shap) (2.8.2)\n",
            "Requirement already satisfied: pytz>=2020.1 in /usr/local/lib/python3.10/dist-packages (from pandas->shap) (2022.7.1)\n",
            "Requirement already satisfied: joblib>=1.1.1 in /usr/local/lib/python3.10/dist-packages (from scikit-learn->shap) (1.3.1)\n",
            "Requirement already satisfied: threadpoolctl>=2.0.0 in /usr/local/lib/python3.10/dist-packages (from scikit-learn->shap) (3.2.0)\n",
            "Requirement already satisfied: six>=1.5 in /usr/local/lib/python3.10/dist-packages (from python-dateutil>=2.8.1->pandas->shap) (1.16.0)\n"
          ]
        },
        {
          "output_type": "stream",
          "name": "stderr",
          "text": [
            "LightGBM binary classifier with TreeExplainer shap values output has changed to a list of ndarray\n",
            "No data for colormapping provided via 'c'. Parameters 'vmin', 'vmax' will be ignored\n"
          ]
        },
        {
          "output_type": "display_data",
          "data": {
            "text/plain": [
              "<Figure size 800x950 with 2 Axes>"
            ],
            "image/png": "[encoded data removed]"
          },
          "metadata": {}
        }
      ],
      "source": [
        "!pip install shap\n",
        "\n",
        "import numpy\n",
        "import shap\n",
        "\n",
        "clf = LGBMClassifier(learning_rate= 0.01, max_depth= 3, num_leaves= 10, n_estimators= 1103, objective=\"binary\")\n",
        "\n",
        "clf.fit(X_trainp, y_trainp)\n",
        "\n",
        "explainer = shap.TreeExplainer(clf)\n",
        "shap_values = explainer.shap_values(X_testp)\n",
        "# shap values for survival\n",
        "#sv_survive = sv[:,y3,:]\n",
        "# shap values for dying\n",
        "#sv_die = sv[:,~y3,:]\n",
        "\n",
        "shap.summary_plot(shap_values[1], X_testp)"
      ]
    },
    {
      "cell_type": "code",
      "execution_count": null,
      "metadata": {
        "colab": {
          "base_uri": "https://localhost:8080/",
          "height": 466
        },
        "id": "NkA52L6kI6Cn",
        "outputId": "ee1104d4-7652-46d1-97dd-554b04b1d814"
      },
      "outputs": [
        {
          "output_type": "display_data",
          "data": {
            "text/plain": [
              "<Figure size 640x480 with 1 Axes>"
            ],
            "image/png": "[encoded data removed]"
          },
          "metadata": {}
        }
      ],
      "source": [
        "feature_importances = pd.Series(clf.feature_importances_, index=X_testp.columns).sort_values(ascending=False)\n",
        "\n",
        "# Plot a simple bar chart\n",
        "feature_importances.plot.bar();"
      ]
    },
    {
      "cell_type": "markdown",
      "metadata": {
        "id": "gMXK9PcLdgSZ"
      },
      "source": [
        "NEED TO ACCOUNT FOR INFLATION IN SALARIES OMG\n",
        "\n",
        "https://github.com/jldbc/pybaseball/tree/master/docs\n",
        "\n",
        "https://process-mining.tistory.com/138"
      ]
    },
    {
      "cell_type": "markdown",
      "metadata": {
        "id": "bSJAcEN77hMx"
      },
      "source": [
        "https://www.datacamp.com/tutorial/scikit-learn-tutorial-baseball-1\n",
        "\n",
        "https://www.baseballdatascience.com/category/machine-learning/\n",
        "need saber data and popularity measure"
      ]
    }
  ],
  "metadata": {
    "colab": {
      "collapsed_sections": [
        "CH5XoGKWNeRA",
        "ubx1xFANO0bI",
        "h_hXWU7fPB1n",
        "tOCBUZyOPO7T"
      ],
      "provenance": [],
      "include_colab_link": true
    },
    "gpuClass": "standard",
    "kernelspec": {
      "display_name": "Python 3",
      "name": "python3"
    },
    "language_info": {
      "name": "python"
    }
  },
  "nbformat": 4,
  "nbformat_minor": 0
}