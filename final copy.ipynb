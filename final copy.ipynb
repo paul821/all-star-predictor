{
 "cells": [
  {
   "attachments": {},
   "cell_type": "markdown",
   "metadata": {},
   "source": [
    "Purpose\n",
    "\n",
    "The All star game is painted as a popularity contest and that there are way too many wrong choices (either snubs or undeserving players). Is this actually the case?\n",
    "Unlike the Cy Young or the MVP races, or game predicting or World Series predictions, there aren't that many predictions for the MLB All Star.\n",
    "\n",
    "This project serves to use data analytics and machine learning on all star data, focusing on two things:\n",
    "\n",
    "First, identifying which factors contribute the most to MLB All Star selection, focusing on certain comparisons\n",
    "- classic stats vs sabermetrics\n",
    "- performance vs popularity\n",
    "- past season(s) performance vs this year performance\n",
    "- overrated players, overpaid players, underrated players, snubs\n",
    "\n",
    "Second, creating a model that attempts to either predict or classify a player based on the odds of making it to the All Star roster."
   ]
  },
  {
   "cell_type": "code",
   "execution_count": null,
   "metadata": {
    "vscode": {
     "languageId": "plaintext"
    }
   },
   "outputs": [],
   "source": [
    "# import `pandas` and `sqlite3`\n",
    "import pandas as pd\n",
    "import sqlite3\n",
    "\n",
    "# Connecting to SQLite Database\n",
    "\n",
    "conn = sqlite3.connect('lahman2016.sqlite')"
   ]
  }
 ],
 "metadata": {
  "language_info": {
   "name": "python"
  },
  "orig_nbformat": 4
 },
 "nbformat": 4,
 "nbformat_minor": 2
}
